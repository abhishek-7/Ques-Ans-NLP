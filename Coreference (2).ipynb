{
 "cells": [
  {
   "cell_type": "code",
   "execution_count": 1,
   "metadata": {
    "collapsed": false
   },
   "outputs": [],
   "source": [
    "from neuralcoref import Coref"
   ]
  },
  {
   "cell_type": "code",
   "execution_count": 2,
   "metadata": {
    "collapsed": false,
    "scrolled": true
   },
   "outputs": [
    {
     "name": "stdout",
     "output_type": "stream",
     "text": [
      "Loading embeddings from /usr/local/lib/python2.7/dist-packages/neuralcoref/weights/static_word\n",
      "Loading embeddings from /usr/local/lib/python2.7/dist-packages/neuralcoref/weights/tuned_word\n",
      "[u'It is loyal.']\n"
     ]
    }
   ],
   "source": [
    "coref = Coref()\n",
    "clusters = coref.one_shot_coref(utterances=u\"It is loyal.\", context=u\"Shyam has a dog.\")\n",
    "#print(clusters)\n",
    "\n",
    "mentions = coref.get_mentions()\n",
    "#print(mentions)\n",
    "\n",
    "utterances = coref.get_utterances()\n",
    "#print(utterances)\n",
    "\n",
    "resolved_utterance_text = coref.get_resolved_utterances()\n",
    "print(resolved_utterance_text)"
   ]
  },
  {
   "cell_type": "code",
   "execution_count": 2,
   "metadata": {
    "collapsed": false
   },
   "outputs": [
    {
     "name": "stdout",
     "output_type": "stream",
     "text": [
      "Loading embeddings from /usr/local/lib/python2.7/dist-packages/neuralcoref/weights/static_word\n",
      "Loading embeddings from /usr/local/lib/python2.7/dist-packages/neuralcoref/weights/tuned_word\n",
      "[u\"John and john cat Rick do not like rats. They catch all they can. One time, John set a trap to catch some and then went away and hid with Rick. Pretty soon a big rat came out of the rat hole and went to the trap. Rick saw the rat and started to jump up to chase the rat, but John said, 'Hold on, Rick, letthe rat see if the rat will go into the trap.' But the rat did not go in, and as it was going to run away, John let Rick go, and said, 'Catch it, Rick. Run quick, quick!' and they ran very fast to catch the rat. But the rat was too quick for them. the rat went into the rat hole just as Rick was very near the rat.\"]\n"
     ]
    }
   ],
   "source": [
    "coref = Coref()\n",
    "sen =  \"John and his cat Rick do not like rats. They catch all they can. One time, John set a trap to catch some and then went away and hid with Rick. Pretty soon a big rat came out of its hole and went to the trap. Rick saw the rat and started to jump up to chase it, but John said, 'Hold on, Rick, let’s see if it will go into the trap.' But the rat did not go in, and as it was going to run away, John let Rick go, and said, 'Catch it, Rick. Run quick, quick!' and they ran very fast to catch the rat. But the rat was too quick for them. It went into its hole just as Rick was very near it.\"\n",
    "cluster=coref.continuous_coref(utterances=unicode(sen, 'utf-8'))\n",
    "# print cluster\n",
    "mentions = coref.get_mentions()\n",
    "# print(set(mentions))\n",
    "\n",
    "utterances = coref.get_utterances()\n",
    "# print(utterances)\n",
    "\n",
    "resolved_utterance_text = coref.get_resolved_utterances()\n",
    "print(resolved_utterance_text)"
   ]
  },
  {
   "cell_type": "code",
   "execution_count": 22,
   "metadata": {
    "collapsed": false
   },
   "outputs": [
    {
     "name": "stdout",
     "output_type": "stream",
     "text": [
      "Architecturally, the school has a Catholic character. Atop the Main Building's gold dome is a golden statue of the Virgin Mary. Immediately in front of the Main Building and facing it, is a copper statue of Christ with arms upraised with the legend \"Venite Ad Me Omnes\". Next to the Main Building is the Basilica of the Sacred Heart. Immediately behind the basilica is the Grotto, a Marian place of prayer and reflection. It is a replica of the grotto at Lourdes, France where the Virgin Mary reputedly appeared to Saint Bernadette Soubirous in 1858. At the end of the main drive (and in a direct line that connects through 3 statues and the Gold Dome), is a simple, modern stone statue of Mary.\n"
     ]
    }
   ],
   "source": [
    "print sen"
   ]
  },
  {
   "cell_type": "code",
   "execution_count": null,
   "metadata": {
    "collapsed": true
   },
   "outputs": [],
   "source": []
  }
 ],
 "metadata": {
  "kernelspec": {
   "display_name": "Python 2",
   "language": "python",
   "name": "python2"
  },
  "language_info": {
   "codemirror_mode": {
    "name": "ipython",
    "version": 2
   },
   "file_extension": ".py",
   "mimetype": "text/x-python",
   "name": "python",
   "nbconvert_exporter": "python",
   "pygments_lexer": "ipython2",
   "version": "2.7.12"
  }
 },
 "nbformat": 4,
 "nbformat_minor": 2
}
