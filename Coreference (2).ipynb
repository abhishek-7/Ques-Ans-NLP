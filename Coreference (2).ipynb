{
 "cells": [
  {
   "cell_type": "code",
   "execution_count": 2,
   "metadata": {},
   "outputs": [],
   "source": [
    "from neuralcoref import Coref"
   ]
  },
  {
   "cell_type": "code",
   "execution_count": 10,
   "metadata": {},
   "outputs": [
    {
     "name": "stdout",
     "output_type": "stream",
     "text": [
      "Loading neuralcoref model from d:\\python27\\lib\\site-packages\\neuralcoref\\weights/\n",
      "Loading spacy model\n",
      "\n",
      "    Info about model en_core_web_sm\n",
      "\n",
      "    lang               en             \n",
      "    pipeline           [u'tagger', u'parser', u'ner']\n",
      "    name               core_web_sm    \n",
      "    license            CC BY-SA 3.0   \n",
      "    author             Explosion AI   \n",
      "    url                https://explosion.ai\n",
      "    description        English multi-task CNN trained on OntoNotes, with GloVe vectors trained on Common Crawl. Assigns word vectors, context-specific token vectors, POS tags, dependency parse and named entities.\n",
      "    vectors            {u'keys': 0, u'width': 0, u'vectors': 0}\n",
      "    sources            [u'OntoNotes 5', u'Common Crawl']\n",
      "    version            2.0.0          \n",
      "    source             d:\\python27\\lib\\site-packages\\en_core_web_sm\n",
      "    spacy_version      >=2.0.0a18     \n",
      "    parent_package     spacy          \n",
      "    speed              {u'gpu': None, u'nwords': 291344, u'cpu': 5122.3040471407}\n",
      "    email              contact@explosion.ai\n",
      "    accuracy           {u'token_acc': 99.8698372794, u'ents_p': 84.9664503965, u'ents_r': 85.6312524451, u'uas': 91.7237657538, u'tags_acc': 97.0403350292, u'ents_f': 85.2975560875, u'las': 89.800872413}\n",
      "\n",
      "Loading embeddings from d:\\python27\\lib\\site-packages\\neuralcoref\\weights/static_word\n",
      "Loading embeddings from d:\\python27\\lib\\site-packages\\neuralcoref\\weights/tuned_word\n",
      "[u' shyam is loyal.']\n"
     ]
    }
   ],
   "source": [
    "coref = Coref()\n",
    "clusters = coref.one_shot_coref(utterances=u\"It is loyal.\", context=u\" Shyam has a dog.\")\n",
    "#print(clusters)\n",
    "\n",
    "mentions = coref.get_mentions()\n",
    "#print(mentions)\n",
    "\n",
    "utterances = coref.get_utterances()\n",
    "#print(utterances)\n",
    "\n",
    "resolved_utterance_text = coref.get_resolved_utterances()\n",
    "print(resolved_utterance_text)"
   ]
  },
  {
   "cell_type": "code",
   "execution_count": 31,
   "metadata": {},
   "outputs": [
    {
     "name": "stdout",
     "output_type": "stream",
     "text": [
      "({1: [1], 2: [2], 5: [5], 6: [6], 7: [7], 10: [10], 11: [11], 12: [12], 15: [15], 16: [16], 17: [17], 20: [20], 21: [21], 22: [22], 25: [25], 26: [26], 27: [27], 30: [30], 31: [31], 32: [32], 35: [35], 36: [36], 37: [37], 38: [38], 39: [39], 40: [40], 41: [41], 42: [42], 43: [43], 44: [44], 45: [45], 46: [46], 47: [47], 48: [48], 49: [49], 50: [50], 51: [51], 52: [52], 53: [53], 54: [54], 55: [55], 56: [56], 57: [57], 58: [58], 59: [59], 60: [60], 61: [61], 62: [62], 63: [63], 64: [64], 65: [65], 67: [67, 33, 28, 23, 18, 13, 8, 3], 68: [68, 66, 34, 29, 24, 19, 14, 9, 4, 0], 70: [70, 69]}, [68, 1, 2, 67, 68, 5, 6, 7, 67, 68, 10, 11, 12, 67, 68, 15, 16, 17, 67, 68, 20, 21, 22, 67, 68, 25, 26, 27, 67, 68, 30, 31, 32, 67, 68, 35, 36, 37, 38, 39, 40, 41, 42, 43, 44, 45, 46, 47, 48, 49, 50, 51, 52, 53, 54, 55, 56, 57, 58, 59, 60, 61, 62, 63, 64, 65, 68, 67, 68, 70, 70])\n",
      "[ Shyam, a dog, It, Ram, Shyam, He, a dog, It, Ram, Shyam, He, a dog, It, Ram, Shyam, He, a dog, It, Ram, Shyam, He, a dog, It, Ram, Shyam, He, a dog, It, Ram, Shyam, He, a dog, It, Ram, Shyam, He, a dog, It, My sister, a dog, She, him, My sister, a dog, She, him, My sister, a dog, She, him, She, market, My sister, a dog, She, him, She, market, He, My sister, a dog, She, it, She, market, It, Shyam, Ram, He, a dog, It]\n",
      "[Shyam knows Ram. He has a dog. It is loyal]\n",
      "[u'Shyam knows Ram. shyam has a dog. a dog is loyal']\n"
     ]
    }
   ],
   "source": [
    "cluster=coref.continuous_coref(utterances=u'Shyam knows Ram. He has a dog. It is loyal')\n",
    "print cluster\n",
    "mentions = coref.get_mentions()\n",
    "print(mentions)\n",
    "\n",
    "utterances = coref.get_utterances()\n",
    "print(utterances)\n",
    "\n",
    "resolved_utterance_text = coref.get_resolved_utterances()\n",
    "print(resolved_utterance_text)"
   ]
  }
 ],
 "metadata": {
  "kernelspec": {
   "display_name": "Python 2",
   "language": "python",
   "name": "python2"
  },
  "language_info": {
   "codemirror_mode": {
    "name": "ipython",
    "version": 2
   },
   "file_extension": ".py",
   "mimetype": "text/x-python",
   "name": "python",
   "nbconvert_exporter": "python",
   "pygments_lexer": "ipython2",
   "version": "2.7.13"
  }
 },
 "nbformat": 4,
 "nbformat_minor": 2
}
