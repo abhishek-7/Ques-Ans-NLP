{
 "cells": [
  {
   "cell_type": "code",
   "execution_count": 7,
   "metadata": {
    "collapsed": false
   },
   "outputs": [
    {
     "data": {
      "text/plain": [
       "\"\\n    This is the output\\n    How can we ensure that 'He' or 'Obama' is Barack Obama only.\\n\""
      ]
     },
     "execution_count": 7,
     "metadata": {},
     "output_type": "execute_result"
    }
   ],
   "source": [
    "\"\"\"\n",
    "    1. Input the sentence or paragraph\n",
    "    2. Remove 'the', '\\'s', 'a', 'an'\n",
    "    3. NER\n",
    "    4. Coreference resolution\n",
    "    5. Relation Extraction\n",
    "    6. Graph Generation\n",
    "\"\"\""
   ]
  },
  {
   "cell_type": "code",
   "execution_count": 257,
   "metadata": {
    "collapsed": true
   },
   "outputs": [],
   "source": [
    "def getMapping(sentence):\n",
    "    open_bracket = []\n",
    "    mapping = {}\n",
    "    for i,j in enumerate(sentence):\n",
    "        if(j=='('):\n",
    "            open_bracket.append(i)\n",
    "        elif (j==')'):\n",
    "            mapping[open_bracket[-1]] = i\n",
    "            del open_bracket[-1]\n",
    "    return mapping\n",
    "\n",
    "def kuchbhi(offset,s,mapping):\n",
    "    if(s==''):return ''\n",
    "    if('(' not in s and ')' not in s):\n",
    "        words = s.split(' ')\n",
    "        if(len(words)>1):return words[1]\n",
    "        else: return ''\n",
    "    firstOpenBracket = s.index('(')\n",
    "    correspondingClosingBracket = mapping[firstOpenBracket+offset]-offset\n",
    "    return kuchbhi(offset+firstOpenBracket+1,s[firstOpenBracket+1:correspondingClosingBracket],mapping)+' '+ \\\n",
    "           kuchbhi(correspondingClosingBracket+offset+1,s[correspondingClosingBracket+1:],mapping)\n",
    "    \n",
    "def converter(s):\n",
    "    openCount,closingCount = 0,0\n",
    "    for i in s:\n",
    "        if(i=='('):openCount+=1\n",
    "        elif(i==')'):closingCount+=1\n",
    "    if(openCount>closingCount):\n",
    "        s = s+')'*(openCount-closingCount)\n",
    "    elif(closingCount>openCount):\n",
    "        s = '('*(closingCount-openCount)+s\n",
    "    mapping = getMapping(s)\n",
    "    s = kuchbhi(0,s,mapping)\n",
    "    return ' '.join(s.split())"
   ]
  },
  {
   "cell_type": "code",
   "execution_count": 258,
   "metadata": {
    "collapsed": false
   },
   "outputs": [],
   "source": [
    "class EntityNode:\n",
    "    def __init__(self, text):\n",
    "        self.entity = text\n",
    "\n",
    "class NPNode:\n",
    "    \n",
    "    def __init__(self, text, entities):\n",
    "        self.sentence = text\n",
    "        self.before = None\n",
    "        self.entity = None\n",
    "        self.after = None\n",
    "        self.adjacent = []\n",
    "        \n",
    "        haystack = text.split(\".\")[0].split(\" \")\n",
    "        needles = entities\n",
    "        idxes = [(i.entity, haystack.index(i.entity)) for i in needles if i.entity in haystack]\n",
    "        idxes = sorted(idxes, key=lambda x:x[1])\n",
    "        if len(idxes)>0 and len(haystack)>0:\n",
    "            self.before = \" \".join(haystack[:idxes[0][1]])\n",
    "            if len(self.before)==0:\n",
    "                self.before = None\n",
    "            self.entity = idxes[0][0]\n",
    "            s = \" \".join(haystack[idxes[0][1]+1:])\n",
    "\n",
    "            afterNode = NPNode(s, ner)\n",
    "            if not afterNode.isEmpty():\n",
    "                self.after = afterNode\n",
    "            elif len(s)>0:\n",
    "                self.after = s\n",
    "                \n",
    "    def isEmpty(self):\n",
    "        return self.before==None and self.entity==None and self.after==None\n",
    "    \n",
    "class VPNode:\n",
    "    \n",
    "    def __init__(self, text):\n",
    "        self.verb = text\n",
    "        self.adjacent = []\n",
    "\n",
    "class Graph:\n",
    "    \n",
    "    entities = []\n",
    "    def __init__(self, entity):\n",
    "        self.NP = []\n",
    "        self.Edges = []\n",
    "        for ent in entity:\n",
    "            self.entities.append(EntityNode(ent))\n",
    "    \n",
    "    def addEdgeNPVP(self, npsentence, verb):\n",
    "        npNode = [np for np in self.NP if np.sentence==npsentence]\n",
    "        if npNode is not None and len(npNode)>0:\n",
    "            npNode = npNode[0]\n",
    "        else:\n",
    "            npNode = NPNode(npsentence, Graph.entities)\n",
    "            \n",
    "            self.NP.append(npNode)\n",
    "        \n",
    "        verbNode = VPNode(verb)\n",
    "        npNode.adjacent.append(verbNode)\n",
    "        self.Edges.append((npNode, verbNode))\n",
    "        self.Edges.append((verbNode, npNode))\n",
    "        return verbNode\n",
    "    \n",
    "    def addEdgeVPNP(self, npsentence, verbNode, verb):\n",
    "        npNode = [np for np in self.NP if np.sentence==npsentence]\n",
    "        if npNode is not None and len(npNode)>0:\n",
    "            npNode = npNode[0]\n",
    "        else:\n",
    "            npNode = NPNode(npsentence, Graph.entities)\n",
    "            self.NP.append(npNode)\n",
    "        \n",
    "        if verbNode is None:\n",
    "            verbNode = VPNode(verb)\n",
    "        verbNode.adjacent.append(npNode)\n",
    "        self.Edges.append((npNode, verbNode))\n",
    "        self.Edges.append((verbNode, npNode))\n",
    "        \n",
    "    def addEdgeVPVP(self, verb1, verbNode1, verb2):\n",
    "        if verbNode1 is None:\n",
    "            verbNode1 = VPNode(verb1)\n",
    "            \n",
    "        verbNode2 = VPNode(verb2)\n",
    "        verbNode1.adjacent.append(verbNode2)\n",
    "        self.Edges.append((verbNode1, verbNode2))\n",
    "        self.Edges.append((verbNode2, verbNode1))\n",
    "        return verbNode2\n",
    "        \n",
    "    \n",
    "    def addEdgeNPNP(self, npsent1, npsent2):\n",
    "        npNode1 = [np for np in self.NP if np.sentence==npsent1]\n",
    "        if npNode1 is not None and len(npNode1)>0:\n",
    "            npNode1 = npNode1[0]\n",
    "        else:\n",
    "            npNode1 = NPNode(npsent1, Graph.entities)\n",
    "            self.NP.append(npNode1)\n",
    "            \n",
    "        npNode2 = [np for np in self.NP if np.sentence==npsent2]\n",
    "        if npNode2 is not None and len(npNode2)>0:\n",
    "            npNode2 = npNode2[0]\n",
    "        else:\n",
    "            npNode2 = NPNode(npsent2, Graph.entities)\n",
    "            self.NP.append(npNode2)\n",
    "            \n",
    "        npNode1.adjacent.append(npNode2)\n",
    "        self.Edges.append((npNode1, npNode2))\n",
    "        self.Edges.append((npNode2, npNode1))\n",
    "        \n",
    "    def addNodes(self, relation):\n",
    "        if len(relation)<2:\n",
    "            return\n",
    "        vpNode = None\n",
    "        for i in range(1, len(relation)):\n",
    "            prev = relation[i-1]\n",
    "            if type(prev)==list:\n",
    "                prev = prev[0]\n",
    "            curr = relation[i]\n",
    "            print prev, \"---->\", curr[0]\n",
    "            if '(NP' in prev:\n",
    "                if '(NP' in curr[0]:\n",
    "                    #NP-NP\n",
    "                    ##INSTEAD OF prev and curr[0] send converter(prev) and converter(curr[0])\n",
    "                    self.addEdgeNPNP(converter(prev), converter(curr[0]))\n",
    "                else:\n",
    "                    #NP-VP\n",
    "                    vpNode = self.addEdgeNPVP(converter(prev), converter(curr[0]))\n",
    "            else:\n",
    "                if '(NP' in curr[0]:\n",
    "                    #VP-NP\n",
    "                    self.addEdgeVPNP(converter(curr[0]), vpNode, converter(prev))\n",
    "                else:\n",
    "                    #VP-VP\n",
    "                    vpNode = self.addEdgeVPVP(converter(prev), vpNode, converter(curr[0]))\n",
    "\n",
    "            self.addNodes(curr)"
   ]
  },
  {
   "cell_type": "code",
   "execution_count": 259,
   "metadata": {
    "collapsed": false
   },
   "outputs": [],
   "source": [
    "rel = ['(NP (PRP It)', ['(VP (VBZ is)', ['(NP(NP (DT a) (NN replica))(PP (IN of)(NP(NP (DT the) (NN grotto))(PP (IN at)(NP (NNP Lourdes) (, ,) (NNP France)))))(SBAR(WHADVP (WRB where))(S(NP (DT the) (NNP Virgin) (NNP Mary))(ADVP (RB reputedly))', ['(VP (VBD appeared)(PP (TO to)', ['(NP(NP (NNP Saint) (NNP Bernadette) (NNP Soubirous))(PP (IN in)(NP (CD 1858)))']]]]]"
   ]
  },
  {
   "cell_type": "code",
   "execution_count": 260,
   "metadata": {
    "collapsed": false
   },
   "outputs": [
    {
     "name": "stdout",
     "output_type": "stream",
     "text": [
      "(NP (PRP It) ----> (VP (VBZ is)\n",
      "(VP (VBZ is) ----> (NP(NP (DT a) (NN replica))(PP (IN of)(NP(NP (DT the) (NN grotto))(PP (IN at)(NP (NNP Lourdes) (, ,) (NNP France)))))(SBAR(WHADVP (WRB where))(S(NP (DT the) (NNP Virgin) (NNP Mary))(ADVP (RB reputedly))\n",
      "(NP(NP (DT a) (NN replica))(PP (IN of)(NP(NP (DT the) (NN grotto))(PP (IN at)(NP (NNP Lourdes) (, ,) (NNP France)))))(SBAR(WHADVP (WRB where))(S(NP (DT the) (NNP Virgin) (NNP Mary))(ADVP (RB reputedly)) ----> (VP (VBD appeared)(PP (TO to)\n",
      "(VP (VBD appeared)(PP (TO to) ----> (NP(NP (NNP Saint) (NNP Bernadette) (NNP Soubirous))(PP (IN in)(NP (CD 1858)))\n"
     ]
    }
   ],
   "source": [
    "graph = Graph(ner)\n",
    "graph.addNodes(rel)"
   ]
  },
  {
   "cell_type": "code",
   "execution_count": 261,
   "metadata": {
    "collapsed": false
   },
   "outputs": [
    {
     "name": "stdout",
     "output_type": "stream",
     "text": [
      "It\n",
      "a replica of the grotto at Lourdes , France where the Virgin Mary reputedly\n",
      "Saint Bernadette Soubirous in 1858\n"
     ]
    }
   ],
   "source": [
    "for np in graph.NP:\n",
    "    print np.sentence"
   ]
  },
  {
   "cell_type": "code",
   "execution_count": 262,
   "metadata": {
    "collapsed": true
   },
   "outputs": [],
   "source": [
    "def listprint(rel):\n",
    "    for i in range(0, len(rel)):\n",
    "        if type(rel[i])==list:\n",
    "            listprint(rel[i])\n",
    "        else:\n",
    "#             print rel[i]\n",
    "            print converter(rel[i])\n",
    "            print \"----------------------------------------\"\n"
   ]
  },
  {
   "cell_type": "code",
   "execution_count": 263,
   "metadata": {
    "collapsed": false
   },
   "outputs": [
    {
     "name": "stdout",
     "output_type": "stream",
     "text": [
      "It\n",
      "----------------------------------------\n",
      "is\n",
      "----------------------------------------\n",
      "a replica of the grotto at Lourdes , France where the Virgin Mary reputedly\n",
      "----------------------------------------\n",
      "appeared to\n",
      "----------------------------------------\n",
      "Saint Bernadette Soubirous in 1858\n",
      "----------------------------------------\n"
     ]
    }
   ],
   "source": [
    "listprint(rel)"
   ]
  },
  {
   "cell_type": "code",
   "execution_count": null,
   "metadata": {
    "collapsed": false
   },
   "outputs": [],
   "source": []
  },
  {
   "cell_type": "code",
   "execution_count": 214,
   "metadata": {
    "collapsed": true
   },
   "outputs": [],
   "source": []
  },
  {
   "cell_type": "code",
   "execution_count": null,
   "metadata": {
    "collapsed": true
   },
   "outputs": [],
   "source": []
  }
 ],
 "metadata": {
  "kernelspec": {
   "display_name": "Python 2",
   "language": "python",
   "name": "python2"
  },
  "language_info": {
   "codemirror_mode": {
    "name": "ipython",
    "version": 2
   },
   "file_extension": ".py",
   "mimetype": "text/x-python",
   "name": "python",
   "nbconvert_exporter": "python",
   "pygments_lexer": "ipython2",
   "version": "2.7.12"
  }
 },
 "nbformat": 4,
 "nbformat_minor": 2
}
