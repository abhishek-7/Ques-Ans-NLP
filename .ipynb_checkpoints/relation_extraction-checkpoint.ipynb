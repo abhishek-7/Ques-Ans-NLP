{
 "cells": [
  {
   "cell_type": "code",
   "execution_count": 1,
   "metadata": {
    "collapsed": true
   },
   "outputs": [],
   "source": [
    "from stanfordcorenlp import StanfordCoreNLP\n",
    "from stanfordcorenlp import StanfordCoreNLP as stnlp\n",
    "nlp = stnlp(r'/home/ayush/stanford-corenlp-full-2018-01-31')"
   ]
  },
  {
   "cell_type": "code",
   "execution_count": 2,
   "metadata": {
    "collapsed": true
   },
   "outputs": [],
   "source": [
    "def getMapping(sentence):\n",
    "    open_bracket = []\n",
    "    mapping = {}\n",
    "    for i,j in enumerate(sentence):\n",
    "        if(j=='('):\n",
    "            open_bracket.append(i)\n",
    "        elif (j==')'):\n",
    "            mapping[open_bracket[-1]] = i\n",
    "            del open_bracket[-1]\n",
    "    return mapping"
   ]
  },
  {
   "cell_type": "code",
   "execution_count": 58,
   "metadata": {
    "collapsed": false
   },
   "outputs": [],
   "source": [
    "def SVO(sentence):\n",
    "    sentence = nlp.parse(sentence)\n",
    "    sentence = str(sentence)\n",
    "    ar = [a.strip() for a in sentence.split('\\n')]\n",
    "    sentence = ''.join(ar)\n",
    "    return getTags(sentence)\n",
    "\n",
    "def getTags(sentence):\n",
    "    mapping = getMapping(sentence)\n",
    "    return getNP(sentence, 0, mapping)\n",
    "        \n",
    "def getNP(sentence, idxStart, mapping):\n",
    "#     print sentence\n",
    "    res = []\n",
    "#     print \"NP\", idxStart, sentence\n",
    "    idxNP = sentence.index('NP')-1\n",
    "#     print idxNP\n",
    "    idxNPend = mapping[idxStart + idxNP] - idxStart\n",
    "#     print idxNP, idxNPend\n",
    "    subj = sentence[idxNP:idxNPend]\n",
    "#     print subj\n",
    "    if 'VP' not in sentence[idxNP:idxNPend]:\n",
    "        remain = sentence[idxNPend+1:]\n",
    "        if 'VP' in remain:\n",
    "            verblist = getVP(remain, idxNPend+1+idxStart, mapping)\n",
    "            res.append(subj)\n",
    "            res.append(verblist)\n",
    "        else:\n",
    "            res.append(subj)\n",
    "    else:\n",
    "        #NP(VP-NP)\n",
    "        #NP(VP(NP))\n",
    "        remain = sentence[idxNP:idxNPend]\n",
    "        verblist = getVP(remain, idxNP+idxStart, mapping)\n",
    "        temp = verblist[0]\n",
    "#         print type(temp)\n",
    "        while (type(temp)!=type('str')):\n",
    "            temp = temp[0]\n",
    "        subj = subj.replace(temp, \"\")\n",
    "#         subj = [subj, verblist]\n",
    "        res.append(subj)\n",
    "        res.append(verblist)\n",
    "    \n",
    "#     print subj\n",
    "    \n",
    "#     if 'VP' in remain:\n",
    "#         verblist = getVP(remain, idxNPend+1+idxStart, mapping)\n",
    "#         res.append(verblist)\n",
    "    return res\n",
    "        \n",
    "def getVP(sentence, idxStart, mapping):\n",
    "    res = []\n",
    "#     print sentence, idxStart\n",
    "#     print \"VP\", idxStart, sentence\n",
    "    idxVP = sentence.index('VP')-1\n",
    "#     print idxVP\n",
    "    idxVPend = mapping[idxStart + idxVP] - idxStart\n",
    "#     print idxVP, idxVPend\n",
    "    verb = sentence[idxVP:idxVPend]\n",
    "#     print verb\n",
    "    if 'NP' not in sentence[idxVP:idxVPend]:\n",
    "        #VP-NP\n",
    "        remain = sentence[idxVPend+1:]\n",
    "        print \"---VP_NP---\", verb\n",
    "        if 'NP' in remain:\n",
    "            nplist = getNP(remain, idxVPend+1+idxStart, mapping)\n",
    "            res.append(verb)\n",
    "            res.append(nplist)\n",
    "        else:\n",
    "            res.append(verb)\n",
    "    \n",
    "    else:\n",
    "        remain = sentence[idxVP:idxVPend]\n",
    "#         print verb\n",
    "        nplist = getNP(remain, idxVP+idxStart, mapping)\n",
    "#         print verb\n",
    "#         print type(nplist[0])\n",
    "#         string = \"\"\n",
    "        temp = nplist[0]\n",
    "        while (type(temp)!=type('str')):\n",
    "            temp = temp[0]\n",
    "        print \"------------------------------------------\"\n",
    "        print temp\n",
    "        print verb\n",
    "        if temp in sentence:\n",
    "            idxx = sentence.index(temp)\n",
    "            verb = verb[:idxx]\n",
    "        print verb\n",
    "#         print verb\n",
    "#         print nplist\n",
    "#         print \"----VP(NP)----\", verb\n",
    "#         verb = [verb, nplist]\n",
    "        res.append(verb)\n",
    "        res.append(nplist)\n",
    "    return res"
   ]
  },
  {
   "cell_type": "code",
   "execution_count": 59,
   "metadata": {
    "collapsed": false,
    "scrolled": true
   },
   "outputs": [
    {
     "name": "stdout",
     "output_type": "stream",
     "text": [
      "------------------------------------------\n",
      "(NP (DT the) (NN legend) (`` ``)(NP(NP (JJ Venite) (NN Ad))(NP(NP (PRP Me))(NNPS Omnes)))('' '')\n",
      "(VP (VBN upraised)(PP (IN with)(NP (DT the) (NN legend) (`` ``)(NP(NP (JJ Venite) (NN Ad))(NP(NP (PRP Me))(NNPS Omnes)))('' '')))\n",
      "(VP (VBN upraised)(PP (IN with)(NP (DT the) (NN legend) (`` ``)(NP(NP (JJ Venite) (NN Ad))(NP(NP (PRP Me))(NNPS Omnes)))('' '')))\n",
      "------------------------------------------\n",
      "(NP(NP (DT a) (NN copper) (NN statue))(PP (IN of)(NP(NP (NNP Christ))(PP (IN with)(NP(NP (NNS arms)))))))\n",
      "(VP (VBZ is)(NP(NP (DT a) (NN copper) (NN statue))(PP (IN of)(NP(NP (NNP Christ))(PP (IN with)(NP(NP (NNS arms))(VP (VBN upraised)(PP (IN with)(NP (DT the) (NN legend) (`` ``)(NP(NP (JJ Venite) (NN Ad))(NP(NP (PRP Me))(NNPS Omnes)))('' '')))))))))\n",
      "(VP (VBZ is)(NP(NP (DT a) (NN copper) (NN statue))(PP (IN of)(NP(NP (NNP Christ))(PP (IN with)(NP(NP (NNS arms))(VP (VBN upraised)(PP (IN with)(NP (DT the) (NN legend) (`` ``)(NP(NP (JJ Venite) (NN Ad))(NP(NP (PRP Me))(NNPS Omnes)))('' '')))))))))\n",
      "------------------------------------------\n",
      "(NP (PRP it)\n",
      "(VP (VBG facing)(SBAR(S(NP (PRP it))(, ,)(VP (VBZ is)(NP(NP (DT a) (NN copper) (NN statue))(PP (IN of)(NP(NP (NNP Christ))(PP (IN with)(NP(NP (NNS arms))(VP (VBN upraised)(PP (IN with)(NP (DT the) (NN legend) (`` ``)(NP(NP (JJ Venite) (NN Ad))(NP(NP (PRP Me))(NNPS Omnes)))('' ''))))))))))))\n",
      "(VP (VBG facing)(SBAR(S(NP (PRP it\n",
      " Immediately in front of the Main Building and facing it, is a copper statue of Christ with arms upraised with the legend \"Venite Ad Me Omnes\"\n"
     ]
    }
   ],
   "source": [
    "svo = SVO(sen[2])\n",
    "print sen[2]\n",
    "# for s in svo:\n",
    "#     print s\n",
    "#     print \"--------------------------------------------------------------------------------------------------------\""
   ]
  },
  {
   "cell_type": "code",
   "execution_count": 11,
   "metadata": {
    "collapsed": true
   },
   "outputs": [
    {
     "name": "stdout",
     "output_type": "stream",
     "text": [
      "(ROOT\n",
      "  (UCP\n",
      "    (PP\n",
      "      (ADVP (RB Immediately))\n",
      "      (IN in)\n",
      "      (NP\n",
      "        (NP (NN front))\n",
      "        (PP (IN of)\n",
      "          (NP (DT the) (NNP Main) (NNP Building)))))\n",
      "    (CC and)\n",
      "    (S\n",
      "      (VP (VBG facing)\n",
      "        (SBAR\n",
      "          (S\n",
      "            (NP (PRP it))\n",
      "            (, ,)\n",
      "            (VP (VBZ is)\n",
      "              (NP\n",
      "                (NP (DT a) (NN copper) (NN statue))\n",
      "                (PP (IN of)\n",
      "                  (NP\n",
      "                    (NP (NNP Christ))\n",
      "                    (PP (IN with)\n",
      "                      (NP\n",
      "                        (NP (NNS arms))\n",
      "                        (VP (VBN upraised)\n",
      "                          (PP (IN with)\n",
      "                            (NP (DT the) (NN legend) (`` ``)\n",
      "                              (NP\n",
      "                                (NP (JJ Venite) (NN Ad))\n",
      "                                (NP\n",
      "                                  (NP (PRP Me))\n",
      "                                  (NNPS Omnes)))\n",
      "                              ('' ''))))))))))))))))\n",
      "(ROOT(UCP(PP(ADVP (RB Immediately))(IN in)(NP(NP (NN front))(PP (IN of)(NP (DT the) (NNP Main) (NNP Building)))))(CC and)(S(VP (VBG facing)(SBAR(S(NP (PRP it))(, ,)(VP (VBZ is)(NP(NP (DT a) (NN copper) (NN statue))(PP (IN of)(NP(NP (NNP Christ))(PP (IN with)(NP(NP (NNS arms))(VP (VBN upraised)(PP (IN with)(NP (DT the) (NN legend) (`` ``)(NP(NP (JJ Venite) (NN Ad))(NP(NP (PRP Me))(NNPS Omnes)))('' ''))))))))))))))))\n",
      "{0: 417, 311: 318, 258: 406, 261: 275, 9: 112, 139: 413, 12: 34, 5: 416, 320: 330, 146: 158, 276: 405, 150: 157, 280: 293, 265: 274, 346: 356, 159: 163, 214: 409, 35: 41, 164: 411, 294: 404, 369: 381, 168: 175, 42: 111, 45: 59, 307: 403, 176: 410, 49: 58, 179: 213, 183: 188, 60: 110, 190: 200, 245: 407, 64: 70, 71: 109, 396: 402, 202: 212, 75: 82, 332: 338, 339: 395, 84: 93, 342: 365, 121: 415, 218: 224, 95: 108, 225: 408, 228: 244, 358: 364, 232: 243, 144: 412, 18: 33, 366: 394, 113: 120, 373: 380, 249: 257, 123: 414, 298: 306, 382: 393, 127: 138}\n"
     ]
    }
   ],
   "source": [
    "sentence = nlp.parse(sen[2])\n",
    "print sentence\n",
    "sentence = str(sentence)\n",
    "ar = [a.strip() for a in sentence.split('\\n')]\n",
    "sentence = ''.join(ar)\n",
    "print sentence\n",
    "print getMapping(sentence)"
   ]
  },
  {
   "cell_type": "code",
   "execution_count": 5,
   "metadata": {
    "collapsed": false
   },
   "outputs": [
    {
     "data": {
      "text/plain": [
       "['Architecturally, the school has a Catholic character',\n",
       " \" Atop the Main Building's gold dome is a golden statue of the Virgin Mary\",\n",
       " ' Immediately in front of the Main Building and facing it, is a copper statue of Christ with arms upraised with the legend \"Venite Ad Me Omnes\"',\n",
       " ' Next to the Main Building is the Basilica of the Sacred Heart',\n",
       " ' Immediately behind the basilica is the Grotto, a Marian place of prayer and reflection',\n",
       " ' It is a replica of the grotto at Lourdes, France where the Virgin Mary reputedly appeared to Saint Bernadette Soubirous in 1858',\n",
       " ' At the end of the main drive (and in a direct line that connects through 3 statues and the Gold Dome), is a simple, modern stone statue of Mary']"
      ]
     },
     "execution_count": 5,
     "metadata": {},
     "output_type": "execute_result"
    }
   ],
   "source": [
    "sen =  \"Architecturally, the school has a Catholic character. Atop the Main Building\\'s gold dome is a golden statue of the Virgin Mary. Immediately in front of the Main Building and facing it, is a copper statue of Christ with arms upraised with the legend \\\"Venite Ad Me Omnes\\\". Next to the Main Building is the Basilica of the Sacred Heart. Immediately behind the basilica is the Grotto, a Marian place of prayer and reflection. It is a replica of the grotto at Lourdes, France where the Virgin Mary reputedly appeared to Saint Bernadette Soubirous in 1858. At the end of the main drive (and in a direct line that connects through 3 statues and the Gold Dome), is a simple, modern stone statue of Mary.\"\n",
    "sen = sen.split('.')\n",
    "del sen[-1]\n",
    "sen"
   ]
  },
  {
   "cell_type": "code",
   "execution_count": 46,
   "metadata": {
    "collapsed": false
   },
   "outputs": [
    {
     "name": "stdout",
     "output_type": "stream",
     "text": [
      "40\n"
     ]
    }
   ],
   "source": [
    "print sentence.index('NP')"
   ]
  },
  {
   "cell_type": "code",
   "execution_count": 26,
   "metadata": {
    "collapsed": false
   },
   "outputs": [],
   "source": [
    "x = extra[1]\n",
    "while (type(x)!=type('str')):\n",
    "    x = x[0]"
   ]
  },
  {
   "cell_type": "code",
   "execution_count": 27,
   "metadata": {
    "collapsed": false
   },
   "outputs": [
    {
     "data": {
      "text/plain": [
       "\"(NP(NP (DT a) (NN copper) (NN statue))(PP (IN of)(NP(NP (NNP Christ))(PP (IN with)(NP(NP (NNS arms))(VP (VBN upraised)(PP (IN with)(NP (DT the) (NN legend) (`` ``)(NP(NP (JJ Venite) (NN Ad))(NP(NP (PRP Me))(NNPS Omnes)))('' ''))))))))\""
      ]
     },
     "execution_count": 27,
     "metadata": {},
     "output_type": "execute_result"
    }
   ],
   "source": [
    "x"
   ]
  },
  {
   "cell_type": "code",
   "execution_count": 60,
   "metadata": {
    "collapsed": false
   },
   "outputs": [
    {
     "data": {
      "text/plain": [
       "['(NP(NP (NN front))(PP (IN of)(NP (DT the) (NNP Main) (NNP Building)))',\n",
       " ['(VP (VBG facing)(SBAR(S(NP (PRP it',\n",
       "  ['(NP (PRP it)',\n",
       "   [\"(VP (VBZ is)(NP(NP (DT a) (NN copper) (NN statue))(PP (IN of)(NP(NP (NNP Christ))(PP (IN with)(NP(NP (NNS arms))(VP (VBN upraised)(PP (IN with)(NP (DT the) (NN legend) (`` ``)(NP(NP (JJ Venite) (NN Ad))(NP(NP (PRP Me))(NNPS Omnes)))('' '')))))))))\",\n",
       "    ['(NP(NP (DT a) (NN copper) (NN statue))(PP (IN of)(NP(NP (NNP Christ))(PP (IN with)(NP(NP (NNS arms)))))))',\n",
       "     [\"(VP (VBN upraised)(PP (IN with)(NP (DT the) (NN legend) (`` ``)(NP(NP (JJ Venite) (NN Ad))(NP(NP (PRP Me))(NNPS Omnes)))('' '')))\",\n",
       "      [\"(NP (DT the) (NN legend) (`` ``)(NP(NP (JJ Venite) (NN Ad))(NP(NP (PRP Me))(NNPS Omnes)))('' '')\"]]]]]]]"
      ]
     },
     "execution_count": 60,
     "metadata": {},
     "output_type": "execute_result"
    }
   ],
   "source": [
    "svo"
   ]
  },
  {
   "cell_type": "code",
   "execution_count": 34,
   "metadata": {
    "collapsed": false
   },
   "outputs": [
    {
     "name": "stdout",
     "output_type": "stream",
     "text": [
      "(ROOT\n",
      "  (UCP\n",
      "    (PP\n",
      "      (ADVP (RB Immediately))\n",
      "      (IN in)\n",
      "      (NP\n",
      "        (NP (NN front))\n",
      "        (PP (IN of)\n",
      "          (NP (DT the) (NNP Main) (NNP Building)))))\n",
      "    (CC and)\n",
      "    (S\n",
      "      (VP (VBG facing)\n",
      "        (SBAR\n",
      "          (S\n",
      "            (NP (PRP it))\n",
      "            (, ,)\n",
      "            (VP (VBZ is)\n",
      "              (NP\n",
      "                (NP (DT a) (NN copper) (NN statue))\n",
      "                (PP (IN of)\n",
      "                  (NP\n",
      "                    (NP (NNP Christ))\n",
      "                    (PP (IN with)\n",
      "                      (NP\n",
      "                        (NP (NNS arms))\n",
      "                        (VP (VBN upraised)\n",
      "                          (PP (IN with)\n",
      "                            (NP (DT the) (NN legend) (`` ``)\n",
      "                              (NP\n",
      "                                (NP (JJ Venite) (NN Ad))\n",
      "                                (NP\n",
      "                                  (NP (PRP Me))\n",
      "                                  (NNPS Omnes)))\n",
      "                              ('' ''))))))))))))))))\n",
      "(ROOT(UCP(PP(ADVP (RB Immediately))(IN in)(NP(NP (NN front))(PP (IN of)(NP (DT the) (NNP Main) (NNP Building)))))(CC and)(S(VP (VBG facing)(SBAR(S(NP (PRP it))(, ,)(VP (VBZ is)(NP(NP (DT a) (NN copper) (NN statue))(PP (IN of)(NP(NP (NNP Christ))(PP (IN with)(NP(NP (NNS arms))(VP (VBN upraised)(PP (IN with)(NP (DT the) (NN legend) (`` ``)(NP(NP (JJ Venite) (NN Ad))(NP(NP (PRP Me))(NNPS Omnes)))('' ''))))))))))))))))\n",
      "{0: 417, 311: 318, 258: 406, 261: 275, 9: 112, 139: 413, 12: 34, 5: 416, 320: 330, 146: 158, 276: 405, 150: 157, 280: 293, 265: 274, 346: 356, 159: 163, 214: 409, 35: 41, 164: 411, 294: 404, 369: 381, 168: 175, 42: 111, 45: 59, 307: 403, 176: 410, 49: 58, 179: 213, 183: 188, 60: 110, 190: 200, 245: 407, 64: 70, 71: 109, 396: 402, 202: 212, 75: 82, 332: 338, 339: 395, 84: 93, 342: 365, 121: 415, 218: 224, 95: 108, 225: 408, 228: 244, 358: 364, 232: 243, 144: 412, 18: 33, 366: 394, 113: 120, 373: 380, 249: 257, 123: 414, 298: 306, 382: 393, 127: 138}\n"
     ]
    }
   ],
   "source": [
    "sentence = nlp.parse(sen[2])\n",
    "print sentence\n",
    "sentence = str(sentence)\n",
    "ar = [a.strip() for a in sentence.split('\\n')]\n",
    "sentence = ''.join(ar)\n",
    "print sentence\n",
    "print getMapping(sentence)"
   ]
  },
  {
   "cell_type": "code",
   "execution_count": 52,
   "metadata": {
    "collapsed": false
   },
   "outputs": [
    {
     "ename": "ValueError",
     "evalue": "substring not found",
     "output_type": "error",
     "traceback": [
      "\u001b[0;31m---------------------------------------------------------------------------\u001b[0m",
      "\u001b[0;31mValueError\u001b[0m                                Traceback (most recent call last)",
      "\u001b[0;32m<ipython-input-52-20a59b87ef2a>\u001b[0m in \u001b[0;36m<module>\u001b[0;34m()\u001b[0m\n\u001b[1;32m      1\u001b[0m \u001b[0mS1\u001b[0m \u001b[0;34m=\u001b[0m \u001b[0;34m\"(NP(NP (DT a) (NN copper) (NN statue))(PP (IN of)(NP(NP (NNP Christ))(PP (IN with)(NP(NP (NNS arms)))))))\"\u001b[0m\u001b[0;34m\u001b[0m\u001b[0m\n\u001b[1;32m      2\u001b[0m \u001b[0mS2\u001b[0m \u001b[0;34m=\u001b[0m \u001b[0;34m\"(VP (VBZ is)(NP(NP (DT a) (NN copper) (NN statue))(PP (IN of)(NP(NP (NNP Christ))(PP (IN with)(NP(NP (NNS arms))(VP (VBN upraised)(PP (IN with)(NP (DT the) (NN legend) (`` ``)(NP(NP (JJ Venite) (NN Ad))(NP(NP (PRP Me))(NNPS Omnes)))('' '')))))))))\"\u001b[0m\u001b[0;34m\u001b[0m\u001b[0m\n\u001b[0;32m----> 3\u001b[0;31m \u001b[0mS2\u001b[0m\u001b[0;34m.\u001b[0m\u001b[0mindex\u001b[0m\u001b[0;34m(\u001b[0m\u001b[0mS1\u001b[0m\u001b[0;34m)\u001b[0m\u001b[0;34m\u001b[0m\u001b[0m\n\u001b[0m",
      "\u001b[0;31mValueError\u001b[0m: substring not found"
     ]
    }
   ],
   "source": [
    "S1 = \"(NP(NP (DT a) (NN copper) (NN statue))(PP (IN of)(NP(NP (NNP Christ))(PP (IN with)(NP(NP (NNS arms)))))))\"\n",
    "S2 = \"(VP (VBZ is)(NP(NP (DT a) (NN copper) (NN statue))(PP (IN of)(NP(NP (NNP Christ))(PP (IN with)(NP(NP (NNS arms))(VP (VBN upraised)(PP (IN with)(NP (DT the) (NN legend) (`` ``)(NP(NP (JJ Venite) (NN Ad))(NP(NP (PRP Me))(NNPS Omnes)))('' '')))))))))\"\n",
    "S2.index(S1)\n"
   ]
  },
  {
   "cell_type": "code",
   "execution_count": 49,
   "metadata": {
    "collapsed": false
   },
   "outputs": [
    {
     "name": "stdout",
     "output_type": "stream",
     "text": [
      "(VP (VBG facing)(SBAR(S\n"
     ]
    }
   ],
   "source": [
    "print S2[:23]"
   ]
  },
  {
   "cell_type": "code",
   "execution_count": 53,
   "metadata": {
    "collapsed": false
   },
   "outputs": [
    {
     "data": {
      "text/plain": [
       "['(NP(NP (NN front))(PP (IN of)(NP (DT the) (NNP Main) (NNP Building)))',\n",
       " ['(VP (VBG facing)(SBAR(S(NP (PRP it',\n",
       "  ['(NP (PRP it)',\n",
       "   [\"(VP (VBZ is)(NP(NP (DT a) (NN copper) (NN statue))(PP (IN of)(NP(NP (NNP Christ))(PP (IN with)(NP(NP (NNS arms))(VP (VBN upraised)(PP (IN with)(NP (DT the) (NN legend) (`` ``)(NP(NP (JJ Venite) (NN Ad))(NP(NP (PRP Me))(NNPS Omnes)))('' '')))))))))\",\n",
       "    ['(NP(NP (DT a) (NN copper) (NN statue))(PP (IN of)(NP(NP (NNP Christ))(PP (IN with)(NP(NP (NNS arms)))))))',\n",
       "     [\"(VP (VBN upraised)(PP (IN with)(NP (DT the) (NN legend) (`` ``)(NP(NP (JJ Venite) (NN Ad))(NP(NP (PRP Me))(NNPS Omnes)))('' '')))\",\n",
       "      [\"(NP (DT the) (NN legend) (`` ``)(NP(NP (JJ Venite) (NN Ad))(NP(NP (PRP Me))(NNPS Omnes)))('' '')\"]]]]]]]"
      ]
     },
     "execution_count": 53,
     "metadata": {},
     "output_type": "execute_result"
    }
   ],
   "source": [
    "svo"
   ]
  },
  {
   "cell_type": "code",
   "execution_count": null,
   "metadata": {
    "collapsed": true
   },
   "outputs": [],
   "source": []
  }
 ],
 "metadata": {
  "kernelspec": {
   "display_name": "Python 2",
   "language": "python",
   "name": "python2"
  },
  "language_info": {
   "codemirror_mode": {
    "name": "ipython",
    "version": 2
   },
   "file_extension": ".py",
   "mimetype": "text/x-python",
   "name": "python",
   "nbconvert_exporter": "python",
   "pygments_lexer": "ipython2",
   "version": "2.7.12"
  }
 },
 "nbformat": 4,
 "nbformat_minor": 2
}
