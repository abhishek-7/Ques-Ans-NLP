{
 "cells": [
  {
   "cell_type": "code",
   "execution_count": 1,
   "metadata": {
    "collapsed": true
   },
   "outputs": [],
   "source": [
    "import nltk\n",
    "import numpy as np\n",
    "import pandas as pd"
   ]
  },
  {
   "cell_type": "code",
   "execution_count": 115,
   "metadata": {
    "collapsed": false
   },
   "outputs": [],
   "source": [
    "S = \"Scientists know many things about the Sun. They know how old it is. The Sun is more than 4½ billion years old. They also know the Sun’s size. The Sun may seem small, but that is because it is so far away. It is about 93 million miles (150 million kilometers) away from the Earth. The Sun is so large that the diameter of the Sun is  109 times the Earth’s diameter. The Sun also weighs as much as 333,000 Earths. The Sun is the center of our Solar System. Besides the Sun, the Solar System is made up of the planets,  moons, asteroid belt, comets, meteors, and other objects.\""
   ]
  },
  {
   "cell_type": "code",
   "execution_count": 65,
   "metadata": {
    "collapsed": false
   },
   "outputs": [],
   "source": [
    "words = nltk.pos_tag(nltk.word_tokenize(S))"
   ]
  },
  {
   "cell_type": "code",
   "execution_count": 66,
   "metadata": {
    "collapsed": false
   },
   "outputs": [
    {
     "name": "stdout",
     "output_type": "stream",
     "text": [
      "79\n"
     ]
    }
   ],
   "source": [
    "words_stop = [w for w in words if w not in nltk.corpus.stopwords.words()]\n",
    "print len(words_stop)"
   ]
  },
  {
   "cell_type": "code",
   "execution_count": 143,
   "metadata": {
    "collapsed": false
   },
   "outputs": [
    {
     "name": "stdout",
     "output_type": "stream",
     "text": [
      "[('Vijay', 'NNP'), ('Bhatkar', 'NNP'), ('is', 'VBZ'), ('the', 'DT'), ('chancellor', 'NN'), ('of', 'IN'), ('Nalanda', 'NNP'), ('University', 'NNP')]\n",
      "[('He', 'PRP'), ('lives', 'VBZ'), ('in', 'IN'), ('Delhi', 'NNP')]\n",
      "[('He', 'PRP'), ('works', 'VBZ'), ('at', 'IN'), ('Google', 'NNP')]\n",
      "[]\n"
     ]
    }
   ],
   "source": [
    "S2 = \"Vijay Bhatkar is the chancellor of Nalanda University. He lives in Delhi. He goes to office at 10..\"\n",
    "sentence = S2.split('.')\n",
    "for s in sentence:\n",
    "    tokenize = nltk.word_tokenize(s)\n",
    "    pos = nltk.pos_tag(tokenize)\n",
    "    print pos\n",
    "    ner = nltk.ne_chunk(pos)\n",
    "#     ner.draw()"
   ]
  },
  {
   "cell_type": "code",
   "execution_count": 144,
   "metadata": {
    "collapsed": false
   },
   "outputs": [
    {
     "name": "stdout",
     "output_type": "stream",
     "text": [
      "[('Vijay', 'NNP'), ('Bhatkar', 'NNP'), ('is', 'VBZ'), ('the', 'DT'), ('chancellor', 'NN'), ('of', 'IN'), ('Nalanda', 'NNP'), ('University.', 'NNP'), ('He', 'PRP'), ('lives', 'VBZ'), ('in', 'IN'), ('Delhi.', 'NNP'), ('He', 'PRP'), ('works', 'VBZ'), ('at', 'IN'), ('Google.', 'NNP')]\n",
      "[Tree('NE', [('Google', 'NNP')])]\n"
     ]
    }
   ],
   "source": [
    "#BETTER\n",
    "parse_tree = nltk.ne_chunk(nltk.tag.pos_tag(S2.split('.')[2].split()), binary=True)  # POS tagging before chunking!\n",
    "print nltk.tag.pos_tag(S2.split())\n",
    "named_entities = []\n",
    "parse_tree.draw()\n",
    "for t in parse_tree.subtrees():\n",
    "    if t.label() == 'NE':\n",
    "        named_entities.append(t)\n",
    "        # named_entities.append(list(t))  # if you want to save a list of tagged words instead of a tree\n",
    "\n",
    "print named_entities"
   ]
  },
  {
   "cell_type": "code",
   "execution_count": null,
   "metadata": {
    "collapsed": false
   },
   "outputs": [],
   "source": [
    "def preprocess(S):\n",
    "    for s in S.split('.')\n",
    "    parse_tree = nltk.ne_chunk(nltk.tag.pos_tag(S.split(), binary = True))\n",
    "    "
   ]
  },
  {
   "cell_type": "code",
   "execution_count": 137,
   "metadata": {
    "collapsed": false
   },
   "outputs": [
    {
     "data": {
      "text/plain": [
       "['Vijay',\n",
       " 'Bhatkar',\n",
       " 'is',\n",
       " 'the',\n",
       " 'chancellor',\n",
       " 'of',\n",
       " 'Nalanda',\n",
       " 'University.',\n",
       " 'He',\n",
       " 'lives',\n",
       " 'in',\n",
       " 'Delhi.']"
      ]
     },
     "execution_count": 137,
     "metadata": {},
     "output_type": "execute_result"
    }
   ],
   "source": [
    "S2.split()"
   ]
  },
  {
   "cell_type": "code",
   "execution_count": null,
   "metadata": {
    "collapsed": true
   },
   "outputs": [],
   "source": []
  }
 ],
 "metadata": {
  "kernelspec": {
   "display_name": "Python 2",
   "language": "python",
   "name": "python2"
  },
  "language_info": {
   "codemirror_mode": {
    "name": "ipython",
    "version": 2
   },
   "file_extension": ".py",
   "mimetype": "text/x-python",
   "name": "python",
   "nbconvert_exporter": "python",
   "pygments_lexer": "ipython2",
   "version": "2.7.12"
  }
 },
 "nbformat": 4,
 "nbformat_minor": 2
}
