{
 "cells": [
  {
   "cell_type": "code",
   "execution_count": 3,
   "metadata": {
    "collapsed": false
   },
   "outputs": [],
   "source": [
    "from neuralcoref import Coref"
   ]
  },
  {
   "cell_type": "code",
   "execution_count": 5,
   "metadata": {
    "collapsed": false
   },
   "outputs": [
    {
     "name": "stdout",
     "output_type": "stream",
     "text": [
      "Loading neuralcoref model from /usr/local/lib/python2.7/dist-packages/neuralcoref/weights/\n",
      "Loading spacy model\n",
      "\n",
      "\u001b[93m    Can't find model meta.json\u001b[0m\n",
      "    /usr/local/lib/python2.7/dist-packages/spacy/data/en_core_web_sm/meta.json\n",
      "\n"
     ]
    },
    {
     "ename": "SystemExit",
     "evalue": "1",
     "output_type": "error",
     "traceback": [
      "An exception has occurred, use %tb to see the full traceback.\n",
      "\u001b[0;31mSystemExit\u001b[0m\u001b[0;31m:\u001b[0m 1\n"
     ]
    }
   ],
   "source": [
    "coref = Coref()\n",
    "clusters = coref.one_shot_coref(utterances=u\"It is loyal.\", context=u\" Shyam has a dog.\")\n",
    "#print(clusters)\n",
    "\n",
    "mentions = coref.get_mentions()\n",
    "#print(mentions)\n",
    "\n",
    "utterances = coref.get_utterances()\n",
    "#print(utterances)\n",
    "\n",
    "resolved_utterance_text = coref.get_resolved_utterances()\n",
    "print(resolved_utterance_text)"
   ]
  },
  {
   "cell_type": "code",
   "execution_count": 31,
   "metadata": {
    "collapsed": false
   },
   "outputs": [
    {
     "name": "stdout",
     "output_type": "stream",
     "text": [
      "({1: [1], 2: [2], 5: [5], 6: [6], 7: [7], 10: [10], 11: [11], 12: [12], 15: [15], 16: [16], 17: [17], 20: [20], 21: [21], 22: [22], 25: [25], 26: [26], 27: [27], 30: [30], 31: [31], 32: [32], 35: [35], 36: [36], 37: [37], 38: [38], 39: [39], 40: [40], 41: [41], 42: [42], 43: [43], 44: [44], 45: [45], 46: [46], 47: [47], 48: [48], 49: [49], 50: [50], 51: [51], 52: [52], 53: [53], 54: [54], 55: [55], 56: [56], 57: [57], 58: [58], 59: [59], 60: [60], 61: [61], 62: [62], 63: [63], 64: [64], 65: [65], 67: [67, 33, 28, 23, 18, 13, 8, 3], 68: [68, 66, 34, 29, 24, 19, 14, 9, 4, 0], 70: [70, 69]}, [68, 1, 2, 67, 68, 5, 6, 7, 67, 68, 10, 11, 12, 67, 68, 15, 16, 17, 67, 68, 20, 21, 22, 67, 68, 25, 26, 27, 67, 68, 30, 31, 32, 67, 68, 35, 36, 37, 38, 39, 40, 41, 42, 43, 44, 45, 46, 47, 48, 49, 50, 51, 52, 53, 54, 55, 56, 57, 58, 59, 60, 61, 62, 63, 64, 65, 68, 67, 68, 70, 70])\n",
      "[ Shyam, a dog, It, Ram, Shyam, He, a dog, It, Ram, Shyam, He, a dog, It, Ram, Shyam, He, a dog, It, Ram, Shyam, He, a dog, It, Ram, Shyam, He, a dog, It, Ram, Shyam, He, a dog, It, Ram, Shyam, He, a dog, It, My sister, a dog, She, him, My sister, a dog, She, him, My sister, a dog, She, him, She, market, My sister, a dog, She, him, She, market, He, My sister, a dog, She, it, She, market, It, Shyam, Ram, He, a dog, It]\n",
      "[Shyam knows Ram. He has a dog. It is loyal]\n",
      "[u'Shyam knows Ram. shyam has a dog. a dog is loyal']\n"
     ]
    }
   ],
   "source": [
    "cluster=coref.continuous_coref(utterances=u'Shyam knows Ram. He has a dog. It is loyal')\n",
    "print cluster\n",
    "mentions = coref.get_mentions()\n",
    "print(mentions)\n",
    "\n",
    "utterances = coref.get_utterances()\n",
    "print(utterances)\n",
    "\n",
    "resolved_utterance_text = coref.get_resolved_utterances()\n",
    "print(resolved_utterance_text)"
   ]
  }
 ],
 "metadata": {
  "kernelspec": {
   "display_name": "Python 2",
   "language": "python",
   "name": "python2"
  },
  "language_info": {
   "codemirror_mode": {
    "name": "ipython",
    "version": 2
   },
   "file_extension": ".py",
   "mimetype": "text/x-python",
   "name": "python",
   "nbconvert_exporter": "python",
   "pygments_lexer": "ipython2",
   "version": "2.7.12"
  }
 },
 "nbformat": 4,
 "nbformat_minor": 2
}
