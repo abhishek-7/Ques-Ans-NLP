{
 "cells": [
  {
   "cell_type": "code",
   "execution_count": 2,
   "metadata": {},
   "outputs": [],
   "source": [
    "from neuralcoref import Coref"
   ]
  },
  {
   "cell_type": "code",
   "execution_count": 5,
   "metadata": {},
   "outputs": [
    {
     "name": "stdout",
     "output_type": "stream",
     "text": [
      "Loading neuralcoref model from d:\\python27\\lib\\site-packages\\neuralcoref\\weights/\n",
      "Loading spacy model\n",
      "\n",
      "    Info about model en_core_web_sm\n",
      "\n",
      "    lang               en             \n",
      "    pipeline           [u'tagger', u'parser', u'ner']\n",
      "    name               core_web_sm    \n",
      "    license            CC BY-SA 3.0   \n",
      "    author             Explosion AI   \n",
      "    url                https://explosion.ai\n",
      "    description        English multi-task CNN trained on OntoNotes, with GloVe vectors trained on Common Crawl. Assigns word vectors, context-specific token vectors, POS tags, dependency parse and named entities.\n",
      "    vectors            {u'keys': 0, u'width': 0, u'vectors': 0}\n",
      "    sources            [u'OntoNotes 5', u'Common Crawl']\n",
      "    version            2.0.0          \n",
      "    source             d:\\python27\\lib\\site-packages\\en_core_web_sm\n",
      "    spacy_version      >=2.0.0a18     \n",
      "    parent_package     spacy          \n",
      "    speed              {u'gpu': None, u'nwords': 291344, u'cpu': 5122.3040471407}\n",
      "    email              contact@explosion.ai\n",
      "    accuracy           {u'token_acc': 99.8698372794, u'ents_p': 84.9664503965, u'ents_r': 85.6312524451, u'uas': 91.7237657538, u'tags_acc': 97.0403350292, u'ents_f': 85.2975560875, u'las': 89.800872413}\n",
      "\n",
      "Loading embeddings from d:\\python27\\lib\\site-packages\\neuralcoref\\weights/static_word\n",
      "Loading embeddings from d:\\python27\\lib\\site-packages\\neuralcoref\\weights/tuned_word\n",
      "({2: [2, 0], 3: [3, 1]}, [2, 3, 2, 3])\n",
      "[My sister, a dog, She, him]\n",
      "[She loves him.]\n",
      "[u'my sister loves a dog.']\n"
     ]
    }
   ],
   "source": [
    "coref = Coref()\n",
    "clusters = coref.one_shot_coref(utterances=u\"She loves him.\", context=u\"My sister has a dog.\")\n",
    "print(clusters)\n",
    "\n",
    "mentions = coref.get_mentions()\n",
    "print(mentions)\n",
    "\n",
    "utterances = coref.get_utterances()\n",
    "print(utterances)\n",
    "\n",
    "resolved_utterance_text = coref.get_resolved_utterances()\n",
    "print(resolved_utterance_text)"
   ]
  },
  {
   "cell_type": "code",
   "execution_count": null,
   "metadata": {},
   "outputs": [],
   "source": []
  }
 ],
 "metadata": {
  "kernelspec": {
   "display_name": "Python 2",
   "language": "python",
   "name": "python2"
  },
  "language_info": {
   "codemirror_mode": {
    "name": "ipython",
    "version": 2
   },
   "file_extension": ".py",
   "mimetype": "text/x-python",
   "name": "python",
   "nbconvert_exporter": "python",
   "pygments_lexer": "ipython2",
   "version": "2.7.13"
  }
 },
 "nbformat": 4,
 "nbformat_minor": 2
}
