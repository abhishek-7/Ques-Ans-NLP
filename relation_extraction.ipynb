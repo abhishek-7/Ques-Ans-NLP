{
 "cells": [
  {
   "cell_type": "code",
   "execution_count": 1,
   "metadata": {
    "collapsed": true
   },
   "outputs": [],
   "source": [
    "from stanfordcorenlp import StanfordCoreNLP\n",
    "from stanfordcorenlp import StanfordCoreNLP as stnlp\n",
    "nlp = stnlp(r'/home/ayush/stanford-corenlp-full-2018-01-31')"
   ]
  },
  {
   "cell_type": "code",
   "execution_count": 2,
   "metadata": {
    "collapsed": true
   },
   "outputs": [],
   "source": [
    "def getMapping(sentence):\n",
    "    open_bracket = []\n",
    "    mapping = {}\n",
    "    for i,j in enumerate(sentence):\n",
    "        if(j=='('):\n",
    "            open_bracket.append(i)\n",
    "        elif (j==')'):\n",
    "            mapping[open_bracket[-1]] = i\n",
    "            del open_bracket[-1]\n",
    "    return mapping"
   ]
  },
  {
   "cell_type": "code",
   "execution_count": 99,
   "metadata": {
    "collapsed": false
   },
   "outputs": [],
   "source": [
    "#OUTPUT in form of [NP[VP[NP[VP[NP...]]]]]\n",
    "def SVO(sentence):\n",
    "    sentence = nlp.parse(sentence)\n",
    "    sentence = str(sentence)\n",
    "    ar = [a.strip() for a in sentence.split('\\n')]\n",
    "    sentence = ''.join(ar)\n",
    "    return getTags(sentence)\n",
    "\n",
    "def getTags(sentence):\n",
    "    mapping = getMapping(sentence)\n",
    "    return getNP(sentence, 0, mapping)\n",
    "        \n",
    "def getNP(sentence, idxStart, mapping):\n",
    "    res = []\n",
    "    idxNP = sentence.index('(NP')\n",
    "    idxNPend = mapping[idxStart + idxNP] - idxStart\n",
    "    subj = sentence[idxNP:idxNPend]\n",
    "    if '(VP' not in sentence[idxNP:idxNPend]:\n",
    "        remain = sentence[idxNPend+1:]\n",
    "        if '(VP' in remain:\n",
    "            verblist = getVP(remain, idxNPend+1+idxStart, mapping)\n",
    "            res.append(subj)\n",
    "            res.append(verblist)\n",
    "        else:\n",
    "            res.append(subj)\n",
    "    else:\n",
    "        #NP(VP-NP)\n",
    "        #NP(VP(NP))\n",
    "        remain = sentence[idxNP:idxNPend]\n",
    "        verblist = getVP(remain, idxNP+idxStart, mapping)\n",
    "        if type(verblist) == type('str'):\n",
    "            temp = verblist\n",
    "        else:\n",
    "            temp = verblist[0]\n",
    "        while (type(temp)!=type('str')):\n",
    "            temp = temp[0]\n",
    "        if temp in subj:\n",
    "            idxx = subj.index(temp)\n",
    "            subj = subj[:idxx]\n",
    "        res.append(subj)\n",
    "        res.append(verblist)\n",
    "    \n",
    "    return res\n",
    "        \n",
    "def getVP(sentence, idxStart, mapping):\n",
    "    res = []\n",
    "    idxVP = sentence.index('(VP')\n",
    "    idxVPend = mapping[idxStart + idxVP] - idxStart\n",
    "    verb = sentence[idxVP:idxVPend]\n",
    "    if '(NP' not in sentence[idxVP:idxVPend]:\n",
    "        #VP-NP\n",
    "        remain = sentence[idxVPend+1:]\n",
    "        if '(NP' in remain:\n",
    "            nplist = getNP(remain, idxVPend+1+idxStart, mapping)\n",
    "            res.append(verb)\n",
    "            res.append(nplist)\n",
    "        else:\n",
    "            res.append(verb)\n",
    "    \n",
    "    else:\n",
    "        remain = sentence[idxVP:idxVPend]\n",
    "        nplist = getNP(remain, idxVP+idxStart, mapping)\n",
    "        if type(nplist) == type('str'):\n",
    "            temp = nplist\n",
    "        else:\n",
    "            temp = nplist[0]\n",
    "        while (type(temp)!=type('str')):\n",
    "            temp = temp[0]\n",
    "        if temp in verb:\n",
    "            idxx = verb.index(temp)\n",
    "            verb = verb[:idxx]\n",
    "        res.append(verb)\n",
    "        res.append(nplist)\n",
    "    return res"
   ]
  },
  {
   "cell_type": "code",
   "execution_count": 100,
   "metadata": {
    "collapsed": false
   },
   "outputs": [
    {
     "data": {
      "text/plain": [
       "['Architecturally, the school has a Catholic character',\n",
       " \" Atop the Main Building's gold dome is a golden statue of the Virgin Mary\",\n",
       " ' Immediately in front of the Main Building and facing it, is a copper statue of Christ with arms upraised with the legend \"Venite Ad Me Omnes\"',\n",
       " ' Next to the Main Building is the Basilica of the Sacred Heart',\n",
       " ' Immediately behind the basilica is the Grotto, a Marian place of prayer and reflection',\n",
       " ' It is a replica of the grotto at Lourdes, France where the Virgin Mary reputedly appeared to Saint Bernadette Soubirous in 1858',\n",
       " ' At the end of the main drive (and in a direct line that connects through 3 statues and the Gold Dome), is a simple, modern stone statue of Mary']"
      ]
     },
     "execution_count": 100,
     "metadata": {},
     "output_type": "execute_result"
    }
   ],
   "source": [
    "sen =  \"Architecturally, the school has a Catholic character. Atop the Main Building\\'s gold dome is a golden statue of the Virgin Mary. Immediately in front of the Main Building and facing it, is a copper statue of Christ with arms upraised with the legend \\\"Venite Ad Me Omnes\\\". Next to the Main Building is the Basilica of the Sacred Heart. Immediately behind the basilica is the Grotto, a Marian place of prayer and reflection. It is a replica of the grotto at Lourdes, France where the Virgin Mary reputedly appeared to Saint Bernadette Soubirous in 1858. At the end of the main drive (and in a direct line that connects through 3 statues and the Gold Dome), is a simple, modern stone statue of Mary.\"\n",
    "sen = sen.split('.')\n",
    "del sen[-1]\n",
    "sen"
   ]
  },
  {
   "cell_type": "code",
   "execution_count": 102,
   "metadata": {
    "collapsed": false,
    "scrolled": true
   },
   "outputs": [
    {
     "name": "stdout",
     "output_type": "stream",
     "text": [
      "['(NP (DT the) (NN school)', ['(VP (VBZ has)', ['(NP (DT a) (JJ Catholic) (NN character)']]]\n",
      "----------------------------------------------------------------------------------\n",
      "[\"(NP(NP (DT the) (NNP Main) (NNP Building) (POS 's))(NN gold)\", ['(VP (VBZ is)', ['(NP(NP (DT a) (JJ golden) (NN statue))(PP (IN of)(NP (DT the) (NNP Virgin) (NNP Mary)))']]]\n",
      "----------------------------------------------------------------------------------\n",
      "['(NP(NP (NN front))(PP (IN of)(NP (DT the) (NNP Main) (NNP Building)))', ['(VP (VBG facing)(SBAR(S', ['(NP (PRP it)', ['(VP (VBZ is)', ['(NP(NP (DT a) (NN copper) (NN statue))(PP (IN of)(NP(NP (NNP Christ))(PP (IN with)(NP(NP (NNS arms))', ['(VP (VBN upraised)(PP (IN with)', [\"(NP (DT the) (NN legend) (`` ``)(NP(NP (JJ Venite) (NN Ad))(NP(NP (PRP Me))(NNPS Omnes)))('' '')\"]]]]]]]\n",
      "----------------------------------------------------------------------------------\n",
      "['(NP (DT the) (NNP Main) (NNP Building)', ['(VP (VBZ is)', ['(NP(NP (DT the) (NN Basilica))(PP (IN of)(NP (DT the) (JJ Sacred) (NNP Heart)))']]]\n",
      "----------------------------------------------------------------------------------\n",
      "['(NP (DT the) (NN basilica)', ['(VP (VBZ is)', ['(NP(NP (DT the) (NNP Grotto))(, ,)(NP(NP (DT a) (NNP Marian) (NN place))(PP (IN of)(NP (NN prayer)(CC and)(NN reflection))))']]]\n",
      "----------------------------------------------------------------------------------\n",
      "['(NP (PRP It)', ['(VP (VBZ is)', ['(NP(NP (DT a) (NN replica))(PP (IN of)(NP(NP (DT the) (NN grotto))(PP (IN at)(NP (NNP Lourdes) (, ,) (NNP France)))))(SBAR(WHADVP (WRB where))(S(NP (DT the) (NNP Virgin) (NNP Mary))(ADVP (RB reputedly))', ['(VP (VBD appeared)(PP (TO to)', ['(NP(NP (NNP Saint) (NNP Bernadette) (NNP Soubirous))(PP (IN in)(NP (CD 1858)))']]]]]\n",
      "----------------------------------------------------------------------------------\n",
      "['(NP(NP (DT the) (NN end))(PP (IN of)(NP(NP (DT the) (JJ main) (NN drive))(PRN (-LRB- -LRB-)(CC and)(NP(NP (IN in) (DT a) (JJ direct) (NN line))(SBAR(WHNP (WDT that))(S', ['(VP (VBZ connects)(PP (IN through)', ['(NP(NP (CD 3) (NNS statues))(CC and)(NP (DT the) (NNP Gold) (NNP Dome))']]]\n",
      "----------------------------------------------------------------------------------\n"
     ]
    }
   ],
   "source": [
    "for s in sen:\n",
    "    print SVO(s)\n",
    "    print '----------------------------------------------------------------------------------'"
   ]
  },
  {
   "cell_type": "code",
   "execution_count": 103,
   "metadata": {
    "collapsed": true
   },
   "outputs": [],
   "source": [
    "from nltk.stem import WordNetLemmatizer\n",
    "wordnet_lemmatizer = WordNetLemmatizer()"
   ]
  },
  {
   "cell_type": "code",
   "execution_count": 111,
   "metadata": {
    "collapsed": false
   },
   "outputs": [
    {
     "name": "stdout",
     "output_type": "stream",
     "text": [
      " \n",
      "Atop Atop\n",
      "the the\n",
      "Main Main\n",
      "Building's Building's\n",
      "gold gold\n",
      "dome dome\n",
      "is is\n",
      "a a\n",
      "golden golden\n",
      "statue statue\n",
      "of of\n",
      "the the\n",
      "Virgin Virgin\n",
      "Mary Mary\n"
     ]
    }
   ],
   "source": [
    "for s in sen[1].split(' '):\n",
    "    print s, wordnet_lemmatizer.lemmatize(s)"
   ]
  },
  {
   "cell_type": "code",
   "execution_count": 110,
   "metadata": {
    "collapsed": false
   },
   "outputs": [
    {
     "data": {
      "text/plain": [
       "u'aardwolf'"
      ]
     },
     "execution_count": 110,
     "metadata": {},
     "output_type": "execute_result"
    }
   ],
   "source": [
    "wordnet_lemmatizer.lemmatize('aardwolves')"
   ]
  },
  {
   "cell_type": "code",
   "execution_count": 115,
   "metadata": {
    "collapsed": true
   },
   "outputs": [],
   "source": [
    "from nltk.stem.porter import PorterStemmer\n",
    "porter_stemmer = PorterStemmer()"
   ]
  },
  {
   "cell_type": "code",
   "execution_count": 116,
   "metadata": {
    "collapsed": false
   },
   "outputs": [
    {
     "name": "stdout",
     "output_type": "stream",
     "text": [
      " \n",
      "Atop atop\n",
      "the the\n",
      "Main main\n",
      "Building's building'\n",
      "gold gold\n",
      "dome dome\n",
      "is is\n",
      "a a\n",
      "golden golden\n",
      "statue statu\n",
      "of of\n",
      "the the\n",
      "Virgin virgin\n",
      "Mary mari\n"
     ]
    }
   ],
   "source": [
    "for s in sen[1].split(' '):\n",
    "    print s, porter_stemmer.stem(s)"
   ]
  },
  {
   "cell_type": "code",
   "execution_count": 117,
   "metadata": {
    "collapsed": false
   },
   "outputs": [
    {
     "data": {
      "text/plain": [
       "\" Atop the Main Building's gold dome is a golden statue of the Virgin Mary\""
      ]
     },
     "execution_count": 117,
     "metadata": {},
     "output_type": "execute_result"
    }
   ],
   "source": [
    "sen[1]"
   ]
  },
  {
   "cell_type": "code",
   "execution_count": null,
   "metadata": {
    "collapsed": true
   },
   "outputs": [],
   "source": []
  }
 ],
 "metadata": {
  "kernelspec": {
   "display_name": "Python 2",
   "language": "python",
   "name": "python2"
  },
  "language_info": {
   "codemirror_mode": {
    "name": "ipython",
    "version": 2
   },
   "file_extension": ".py",
   "mimetype": "text/x-python",
   "name": "python",
   "nbconvert_exporter": "python",
   "pygments_lexer": "ipython2",
   "version": "2.7.12"
  }
 },
 "nbformat": 4,
 "nbformat_minor": 2
}
