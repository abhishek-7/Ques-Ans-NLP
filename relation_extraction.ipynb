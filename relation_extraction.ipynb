{
 "cells": [
  {
   "cell_type": "code",
   "execution_count": 8,
   "metadata": {
    "collapsed": true
   },
   "outputs": [],
   "source": [
    "from stanfordcorenlp import StanfordCoreNLP as stnlp\n",
    "nlp = stnlp(r'/home/ayush/stanford-corenlp-full-2018-01-31')"
   ]
  },
  {
   "cell_type": "code",
   "execution_count": 9,
   "metadata": {
    "collapsed": true
   },
   "outputs": [],
   "source": [
    "def getMapping(sentence):\n",
    "    open_bracket = []\n",
    "    mapping = {}\n",
    "    for i,j in enumerate(sentence):\n",
    "        if(j=='('):\n",
    "            open_bracket.append(i)\n",
    "        elif (j==')'):\n",
    "            mapping[open_bracket[-1]] = i\n",
    "            del open_bracket[-1]\n",
    "    return mapping"
   ]
  },
  {
   "cell_type": "code",
   "execution_count": 10,
   "metadata": {
    "collapsed": false
   },
   "outputs": [],
   "source": [
    "#OUTPUT in form of [NP[VP[NP[VP[NP...]]]]]\n",
    "def SVO(sentence):\n",
    "    sentence = nlp.parse(sentence)\n",
    "    sentence = str(sentence)\n",
    "    ar = [a.strip() for a in sentence.split('\\n')]\n",
    "    sentence = ''.join(ar)\n",
    "    return getTags(sentence)\n",
    "\n",
    "def getTags(sentence):\n",
    "    mapping = getMapping(sentence)\n",
    "    if '(NP' in sentence:\n",
    "        if '(VP' in sentence:\n",
    "            if sentence.index('(NP')<sentence.index('(VP'):\n",
    "                return getNP(sentence, 0, mapping)\n",
    "            else:\n",
    "                return getVP(sentence, 0, mapping)\n",
    "        else:\n",
    "            return getNP(sentence, 0, mapping)\n",
    "    elif '(VP' in sentence:\n",
    "        return getVP(sentence, 0, mapping)\n",
    "    \n",
    "def getNP(sentence, idxStart, mapping):\n",
    "    res = []\n",
    "    idxNP = sentence.index('(NP')\n",
    "    idxNPend = mapping[idxStart + idxNP] - idxStart\n",
    "    subj = sentence[idxNP:idxNPend]\n",
    "    npAdded = False\n",
    "    \n",
    "    if '(VP' in sentence[idxNP:idxNPend]:\n",
    "        #NP(VP)\n",
    "        remain = sentence[idxNP:idxNPend]\n",
    "        verblist = getVP(remain, idxNP+idxStart, mapping)\n",
    "        if type(verblist) == type('str'):\n",
    "            temp = verblist\n",
    "        else:\n",
    "            temp = verblist[0]\n",
    "        while (type(temp)!=type('str')):\n",
    "            temp = temp[0]\n",
    "        if temp in subj:\n",
    "            idxx = subj.index(temp)\n",
    "            subj = subj[:idxx]\n",
    "        res.append(subj)\n",
    "        res.append(verblist)\n",
    "        npAdded = True    \n",
    "    \n",
    "    remain = sentence[idxNPend+1:]\n",
    "    if '(VP' in remain:\n",
    "        #NP-VP\n",
    "        verblist = getVP(remain, idxNPend+1+idxStart, mapping)\n",
    "        if not npAdded:\n",
    "            res.append(subj)\n",
    "        res.append(verblist)\n",
    "    else:\n",
    "        #NP\n",
    "        if not subj in res:\n",
    "            res.append(subj) \n",
    "    return res\n",
    "        \n",
    "def getVP(sentence, idxStart, mapping):\n",
    "    res = []\n",
    "    idxVP = sentence.index('(VP')\n",
    "    idxVPend = mapping[idxStart + idxVP] - idxStart\n",
    "    verb = sentence[idxVP:idxVPend]\n",
    "    \n",
    "    verbAdded = False\n",
    "    if '(NP' in sentence[idxVP:idxVPend]:\n",
    "        remain = sentence[idxVP:idxVPend]\n",
    "        nplist = getNP(remain, idxVP+idxStart, mapping)\n",
    "        if type(nplist) == type('str'):\n",
    "            temp = nplist\n",
    "        else:\n",
    "            temp = nplist[0]\n",
    "        while (type(temp)!=type('str')):\n",
    "            temp = temp[0]\n",
    "        if temp in verb:\n",
    "            idxx = verb.index(temp)\n",
    "            verb = verb[:idxx]\n",
    "        res.append(verb)\n",
    "        res.append(nplist)\n",
    "        verbAdded = True\n",
    "    \n",
    "    remain = sentence[idxVPend+1:]\n",
    "    if '(NP' in remain:\n",
    "        nplist = getNP(remain, idxVPend+1+idxStart, mapping)\n",
    "        if not verbAdded:\n",
    "            res.append(verb)\n",
    "        res.append(nplist)\n",
    "    else:\n",
    "        if not verb in res:\n",
    "            res.append(verb)\n",
    "    return res"
   ]
  },
  {
   "cell_type": "code",
   "execution_count": 11,
   "metadata": {
    "collapsed": false
   },
   "outputs": [
    {
     "data": {
      "text/plain": [
       "['Architecturally, the school has a Catholic character',\n",
       " \" Atop the Main Building's gold dome is a golden statue of the Virgin Mary\",\n",
       " ' Immediately in front of the Main Building and facing it, is a copper statue of Christ with arms upraised with the legend \"Venite Ad Me Omnes\"',\n",
       " ' Next to the Main Building is the Basilica of the Sacred Heart',\n",
       " ' Immediately behind the basilica is the Grotto, a Marian place of prayer and reflection',\n",
       " ' It is a replica of the grotto at Lourdes, France where the Virgin Mary reputedly appeared to Saint Bernadette Soubirous in 1858',\n",
       " ' At the end of the main drive (and in a direct line that connects through 3 statues and the Gold Dome), is a simple, modern stone statue of Mary']"
      ]
     },
     "execution_count": 11,
     "metadata": {},
     "output_type": "execute_result"
    }
   ],
   "source": [
    "sen =  \"Architecturally, the school has a Catholic character. Atop the Main Building\\'s gold dome is a golden statue of the Virgin Mary. Immediately in front of the Main Building and facing it, is a copper statue of Christ with arms upraised with the legend \\\"Venite Ad Me Omnes\\\". Next to the Main Building is the Basilica of the Sacred Heart. Immediately behind the basilica is the Grotto, a Marian place of prayer and reflection. It is a replica of the grotto at Lourdes, France where the Virgin Mary reputedly appeared to Saint Bernadette Soubirous in 1858. At the end of the main drive (and in a direct line that connects through 3 statues and the Gold Dome), is a simple, modern stone statue of Mary.\"\n",
    "sen = sen.split('.')\n",
    "del sen[-1]\n",
    "sen"
   ]
  },
  {
   "cell_type": "code",
   "execution_count": 12,
   "metadata": {
    "collapsed": false
   },
   "outputs": [
    {
     "name": "stdout",
     "output_type": "stream",
     "text": [
      "['(NP (DT the) (NN school)', ['(VP (VBZ has)', ['(NP (DT a) (JJ Catholic) (NN character)']]]\n",
      "----------------------------------------------------------------------------------\n",
      "[\"(NP(NP (DT the) (NNP Main) (NNP Building) (POS 's))(NN gold)\", ['(VP (VBZ is)', ['(NP(NP (DT a) (JJ golden) (NN statue))(PP (IN of)(NP (DT the) (NNP Virgin) (NNP Mary)))']]]\n",
      "----------------------------------------------------------------------------------\n",
      "['(NP(NP (NN front))(PP (IN of)(NP (DT the) (NNP Main) (NNP Building)))', ['(VP (VBG facing)(SBAR(S', ['(NP (PRP it)', ['(VP (VBZ is)', ['(NP(NP (DT a) (NN copper) (NN statue))(PP (IN of)(NP(NP (NNP Christ))(PP (IN with)(NP(NP (NNS arms))', ['(VP (VBN upraised)(PP (IN with)', [\"(NP (DT the) (NN legend) (`` ``)(NP(NP (JJ Venite) (NN Ad))(NP(NP (PRP Me))(NNPS Omnes)))('' '')\"]]]]]]]\n",
      "----------------------------------------------------------------------------------\n",
      "['(NP (DT the) (NNP Main) (NNP Building)', ['(VP (VBZ is)', ['(NP(NP (DT the) (NN Basilica))(PP (IN of)(NP (DT the) (JJ Sacred) (NNP Heart)))']]]\n",
      "----------------------------------------------------------------------------------\n",
      "['(NP (DT the) (NN basilica)', ['(VP (VBZ is)', ['(NP(NP (DT the) (NNP Grotto))(, ,)(NP(NP (DT a) (NNP Marian) (NN place))(PP (IN of)(NP (NN prayer)(CC and)(NN reflection))))']]]\n",
      "----------------------------------------------------------------------------------\n",
      "['(NP (PRP It)', ['(VP (VBZ is)', ['(NP(NP (DT a) (NN replica))(PP (IN of)(NP(NP (DT the) (NN grotto))(PP (IN at)(NP (NNP Lourdes) (, ,) (NNP France)))))(SBAR(WHADVP (WRB where))(S(NP (DT the) (NNP Virgin) (NNP Mary))(ADVP (RB reputedly))', ['(VP (VBD appeared)(PP (TO to)', ['(NP(NP (NNP Saint) (NNP Bernadette) (NNP Soubirous))(PP (IN in)(NP (CD 1858)))']]]]]\n",
      "----------------------------------------------------------------------------------\n",
      "['(NP(NP (DT the) (NN end))(PP (IN of)(NP(NP (DT the) (JJ main) (NN drive))(PRN (-LRB- -LRB-)(CC and)(NP(NP (IN in) (DT a) (JJ direct) (NN line))(SBAR(WHNP (WDT that))(S', ['(VP (VBZ connects)(PP (IN through)', ['(NP(NP (CD 3) (NNS statues))(CC and)(NP (DT the) (NNP Gold) (NNP Dome))'], ['(NP(NP (DT a) (JJ simple) (, ,) (JJ modern) (NN stone) (NN statue))(PP (IN of)(NP (NNP Mary)))']]]\n",
      "----------------------------------------------------------------------------------\n"
     ]
    }
   ],
   "source": [
    "for s in sen:\n",
    "    print SVO(s)\n",
    "    print '----------------------------------------------------------------------------------'"
   ]
  },
  {
   "cell_type": "code",
   "execution_count": 13,
   "metadata": {
    "collapsed": false
   },
   "outputs": [
    {
     "name": "stdout",
     "output_type": "stream",
     "text": [
      "['(NP (NNP Ram)(CC and)(NNP Shyam)', ['(VP (VBP know)', ['(NP (NNP Raju)']]]\n"
     ]
    }
   ],
   "source": [
    "svo =  SVO(\"Ram and Shyam know Raju\")\n",
    "print svo\n",
    "ners = [\"Shyam\", \"Ram\", \"Raju\"]"
   ]
  },
  {
   "cell_type": "code",
   "execution_count": 14,
   "metadata": {
    "collapsed": false
   },
   "outputs": [
    {
     "data": {
      "text/plain": [
       "['(VP (VBG Texting)(PP (IN on)',\n",
       " ['(NP (PRP$ his) (NN phone)'],\n",
       " ['(NP (DT the) (NN man)',\n",
       "  ['(VP (VBD swerved)(PP (IN into)', ['(NP (DT a) (NN ditch)']]]]"
      ]
     },
     "execution_count": 14,
     "metadata": {},
     "output_type": "execute_result"
    }
   ],
   "source": [
    "svo = SVO(\"Texting on his phone the man swerved into a ditch.\")\n",
    "svo"
   ]
  },
  {
   "cell_type": "code",
   "execution_count": 15,
   "metadata": {
    "collapsed": false
   },
   "outputs": [
    {
     "name": "stdout",
     "output_type": "stream",
     "text": [
      "(ROOT\n",
      "  (S\n",
      "    (S\n",
      "      (VP (VBG Texting)\n",
      "        (PP (IN on)\n",
      "          (NP (PRP$ his) (NN phone)))))\n",
      "    (NP (DT the) (NN man))\n",
      "    (VP (VBD swerved)\n",
      "      (PP (IN into)\n",
      "        (NP (DT a) (NN ditch))))\n",
      "    (. .)))\n"
     ]
    }
   ],
   "source": [
    "print nlp.parse(\"Texting on his phone the man swerved into a ditch.\")"
   ]
  },
  {
   "cell_type": "code",
   "execution_count": null,
   "metadata": {
    "collapsed": true
   },
   "outputs": [],
   "source": []
  }
 ],
 "metadata": {
  "kernelspec": {
   "display_name": "Python 2",
   "language": "python",
   "name": "python2"
  },
  "language_info": {
   "codemirror_mode": {
    "name": "ipython",
    "version": 2
   },
   "file_extension": ".py",
   "mimetype": "text/x-python",
   "name": "python",
   "nbconvert_exporter": "python",
   "pygments_lexer": "ipython2",
   "version": "2.7.12"
  }
 },
 "nbformat": 4,
 "nbformat_minor": 2
}
