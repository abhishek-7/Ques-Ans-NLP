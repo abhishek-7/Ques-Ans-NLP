{
 "cells": [
  {
   "cell_type": "code",
   "execution_count": 1,
   "metadata": {
    "collapsed": true
   },
   "outputs": [],
   "source": [
    "import nltk\n",
    "import numpy as np\n",
    "import pandas as pd\n",
    "import spacy\n",
    "model_path = '/home/ayush/spaCy/models/en_core_web_sm-2.0.0/en_core_web_sm/en_core_web_sm-2.0.0'\n",
    "\n",
    "nlp = spacy.load(model_path)"
   ]
  },
  {
   "cell_type": "code",
   "execution_count": 2,
   "metadata": {
    "collapsed": false
   },
   "outputs": [],
   "source": [
    "S = \"Scientists know many things about the Sun. They know how old it is. The Sun is more than 4½ billion years old. They also know the Sun’s size. The Sun may seem small, but that is because it is so far away. It is about 93 million miles (150 million kilometers) away from the Earth. The Sun is so large that the diameter of the Sun is  109 times the Earth’s diameter. The Sun also weighs as much as 333,000 Earths. The Sun is the center of our Solar System. Besides the Sun, the Solar System is made up of the planets,  moons, asteroid belt, comets, meteors, and other objects.\""
   ]
  },
  {
   "cell_type": "code",
   "execution_count": 3,
   "metadata": {
    "collapsed": false
   },
   "outputs": [],
   "source": [
    "words = nltk.pos_tag(nltk.word_tokenize(S))"
   ]
  },
  {
   "cell_type": "code",
   "execution_count": 4,
   "metadata": {
    "collapsed": false
   },
   "outputs": [
    {
     "name": "stdout",
     "output_type": "stream",
     "text": [
      "129\n"
     ]
    }
   ],
   "source": [
    "words_stop = [w for w in words if w not in nltk.corpus.stopwords.words()]\n",
    "print len(words_stop)"
   ]
  },
  {
   "cell_type": "code",
   "execution_count": 5,
   "metadata": {
    "collapsed": false
   },
   "outputs": [],
   "source": [
    "S2 = \"Vijay Bhatkar is the chancellor of Nalanda University. He lives in Rohini Delhi.\""
   ]
  },
  {
   "cell_type": "code",
   "execution_count": 10,
   "metadata": {
    "collapsed": false
   },
   "outputs": [],
   "source": [
    "\"\"\"\n",
    "1. Tokenization\n",
    "2. Pos Tagging\n",
    "3. NER (Named Entity Recognition) : \n",
    "    a. Split the sentences.\n",
    "    b. For the sentence use the ne_chunk using its tags\n",
    "    c. return the pos_tags, named_entities\n",
    "\"\"\"\n",
    "def preprocess(S):\n",
    "    sentences = S.split('.')\n",
    "    pos_tags = []\n",
    "    named_entity = []\n",
    "    for sentence in sentences:\n",
    "        pos_tags.append(nltk.pos_tag(nltk.word_tokenize(sentence)))\n",
    "        parse_tree = nltk.ne_chunk(nltk.tag.pos_tag(sentence.split()), binary=True)\n",
    "        for tree in parse_tree.subtrees():\n",
    "            if tree.label()=='NE':\n",
    "                entity = \"\"\n",
    "                for t in tree:\n",
    "                    entity+=t[0]+\" \"\n",
    "                named_entity.append(entity[:-1])\n",
    "        \n",
    "    return (pos_tags, named_entity)\n",
    "\n",
    "def to_nltk_tree(node):\n",
    "    if node.n_lefts + node.n_rights > 0:\n",
    "        return nltk.Tree(node.orth_, [to_nltk_tree(child) for child in node.children])\n",
    "    else:\n",
    "        return node.orth_\n",
    "\n",
    "\n",
    "def dependency_tree(sentence):\n",
    "    doc = nlp(sentence)\n",
    "\n",
    "    for ent in doc.ents:\n",
    "        print(ent.text, ent.start_char, ent.end_char, ent.label_)\n",
    "    \n",
    "    [to_nltk_tree(sent.root).pretty_print() for sent in doc.sents]"
   ]
  },
  {
   "cell_type": "code",
   "execution_count": 7,
   "metadata": {
    "collapsed": false
   },
   "outputs": [
    {
     "name": "stdout",
     "output_type": "stream",
     "text": [
      "['Vijay Bhatkar', 'Nalanda University', 'Rohini Delhi']\n"
     ]
    }
   ],
   "source": [
    "(pos_tags, named_entities) = preprocess(S2)\n",
    "print named_entities"
   ]
  },
  {
   "cell_type": "code",
   "execution_count": 8,
   "metadata": {
    "collapsed": false
   },
   "outputs": [
    {
     "name": "stdout",
     "output_type": "stream",
     "text": [
      "10\n",
      "['Scientists know many things about the Sun', 'They know how old it is', 'The Sun is more than 4\\xc2\\xbd billion years old', 'They also know the Sun\\xe2\\x80\\x99s size', 'The Sun may seem small, but that is because it is so far away', 'It is about 93 million miles (150 million kilometers) away from the Earth', 'The Sun is so large that the diameter of the Sun is  109 times the Earth\\xe2\\x80\\x99s diameter', 'The Sun also weighs as much as 333,000 Earths', 'The Sun is the center of our Solar System', 'Besides the Sun, the Solar System is made up of the planets,  moons, asteroid belt, comets, meteors, and other objects.']\n",
      "[u'Scientists know many things about the Sun', u'They know how old it is', u'The Sun is more than 4\\xbd billion years old', u'They also know the Sun\\u2019s size', u'The Sun may seem small, but that is because it is so far away', u'It is about 93 million miles (150 million kilometers) away from the Earth', u'The Sun is so large that the diameter of the Sun is  109 times the Earth\\u2019s diameter', u'The Sun also weighs as much as 333,000 Earths', u'The Sun is the center of our Solar System', u'Besides the Sun, the Solar System is made up of the planets,  moons, asteroid belt, comets, meteors, and other objects.']\n"
     ]
    }
   ],
   "source": [
    "temp_s = S.split('. ')\n",
    "print len(temp_s)\n",
    "print temp_s\n",
    "for i in range(len(temp_s)):\n",
    "    temp_s[i] = unicode(temp_s[i], 'utf-8')\n",
    "print temp_s"
   ]
  },
  {
   "cell_type": "code",
   "execution_count": 11,
   "metadata": {
    "collapsed": true
   },
   "outputs": [
    {
     "name": "stdout",
     "output_type": "stream",
     "text": [
      "(u'Sun', 38, 41, u'ORG')\n",
      "           know             \n",
      "     _______|_____           \n",
      "    |           things      \n",
      "    |        _____|______    \n",
      "    |       |          about\n",
      "    |       |            |   \n",
      "    |       |           Sun \n",
      "    |       |            |   \n",
      "Scientists many         the \n",
      "\n",
      "     know        \n",
      "  ____|____       \n",
      " |         is    \n",
      " |     ____|___   \n",
      " |    |       old\n",
      " |    |        |  \n",
      "They  it      how\n",
      "\n",
      "(u'Sun', 4, 7, u'ORG')\n",
      "(u'more than 4\\xbd billion', 11, 31, u'MONEY')\n",
      "(u'years', 32, 37, u'DATE')\n",
      "          is            \n",
      "  ________|_____         \n",
      " |             old      \n",
      " |              |        \n",
      " |            years     \n",
      " |              |        \n",
      "Sun          billion    \n",
      " |    __________|_____   \n",
      "The more       than   4½\n",
      "\n",
      "(u'Sun', 19, 22, u'ORG')\n",
      "     know             \n",
      "  ____|________        \n",
      " |    |       size    \n",
      " |    |     ___|____   \n",
      " |    |    |       Sun\n",
      " |    |    |        |  \n",
      "They also the       ’s\n",
      "\n",
      "(u'Sun', 4, 7, u'ORG')\n",
      "                  seem                          \n",
      "  _________________|_________________            \n",
      " |    |    |   |   |                 is         \n",
      " |    |    |   |   |     ____________|___        \n",
      " |    |    |   |   |    |                is     \n",
      " |    |    |   |   |    |       _________|___    \n",
      " |    |    |   |   |    |      |         |  away\n",
      " |    |    |   |   |    |      |         |   |   \n",
      " |    |    |   |  Sun   |      |         |  far \n",
      " |    |    |   |   |    |      |         |   |   \n",
      "may small  ,  but The  that because      it  so \n",
      "\n",
      "(u'about 93 million miles', 6, 28, u'QUANTITY')\n",
      "(u'150 million kilometers', 30, 52, u'QUANTITY')\n",
      "(u'Earth', 68, 73, u'LOC')\n",
      "              is                               \n",
      "  ____________|____________                     \n",
      " |                        away                 \n",
      " |             ____________|________________    \n",
      " |          miles                           |  \n",
      " |    ________|____________________         |   \n",
      " |   |   |           |         kilometers  from\n",
      " |   |   |           |             |        |   \n",
      " |   |   |        million       million   Earth\n",
      " |   |   |     ______|_____        |        |   \n",
      " It  (   )  about          93     150      the \n",
      "\n",
      "(u'Sun', 4, 7, u'ORG')\n",
      "(u'Sun', 45, 48, u'ORG')\n",
      "(u'109', 53, 56, u'CARDINAL')\n",
      "(u'Earth', 67, 72, u'LOC')\n",
      "                        is                                 \n",
      "    ____________________|_________________________          \n",
      "   |      |      large                            |        \n",
      "   |      |    ____|____                          |         \n",
      "   |      |   |         is                        |        \n",
      "   |      |   |     ____|_________                |         \n",
      "   |      |   |    |    |      diameter           |        \n",
      "   |      |   |    |    |    _____|______         |         \n",
      "   |      |   |    |    |   |            of     Earth      \n",
      "   |      |   |    |    |   |            |    ____|_____    \n",
      "   |     Sun  |    |    |   |           Sun  |    |    109 \n",
      "   |      |   |    |    |   |            |   |    |     |   \n",
      "diameter The  so  that     the          the the   ’s  times\n",
      "\n",
      "(u'Sun', 4, 7, u'ORG')\n",
      "         weighs            \n",
      "  _________|_______         \n",
      " |    |          Earths    \n",
      " |    |            |        \n",
      " |   Sun        333,000    \n",
      " |    |     _______|_____   \n",
      "also The   as     much   as\n",
      "\n",
      "(u'Sun', 4, 7, u'ORG')\n",
      "         is                    \n",
      "  _______|____                  \n",
      " |          center             \n",
      " |    ________|______           \n",
      " |   |               of        \n",
      " |   |               |          \n",
      "Sun  |             System      \n",
      " |   |         ______|______    \n",
      "The the      our          Solar\n",
      "\n",
      "(u'Sun', 12, 15, u'LOC')\n",
      "(u'the Solar System', 17, 33, u'PRODUCT')\n",
      "(u' ', 61, 62, u'NORP')\n",
      "                                             made                                                 \n",
      "  ____________________________________________|__________                                          \n",
      " |   |   |     |          |             |     |        moons                                      \n",
      " |   |   |     |          |             |     |     _____|__________                               \n",
      " |   |   |     |          |             |     |    |               belt                           \n",
      " |   |   |     |          |             |     |    |      __________|_________                     \n",
      " |   |   |     |          |             up    |    |     |      |           comets                \n",
      " |   |   |     |          |             |     |    |     |      |    _________|_______             \n",
      " |   |   |  Besides       |             of    |    |     |      |   |              meteors        \n",
      " |   |   |     |          |             |     |    |     |      |   |     ____________|_______     \n",
      " |   |   |    Sun       System       planets  ,    |     |      |   |    |            |    objects\n",
      " |   |   |     |      ____|______       |     |    |     |      |   |    |            |       |    \n",
      " ,   is  .    the   the        Solar   the         ,  asteroid  ,   ,    ,           and    other \n",
      "\n"
     ]
    }
   ],
   "source": [
    "for s in temp_s:\n",
    "    dependency_tree(s)"
   ]
  },
  {
   "cell_type": "code",
   "execution_count": 45,
   "metadata": {
    "collapsed": false
   },
   "outputs": [
    {
     "name": "stdout",
     "output_type": "stream",
     "text": [
      "5\n"
     ]
    }
   ],
   "source": [
    "print 5"
   ]
  },
  {
   "cell_type": "code",
   "execution_count": null,
   "metadata": {
    "collapsed": true
   },
   "outputs": [],
   "source": []
  }
 ],
 "metadata": {
  "kernelspec": {
   "display_name": "Python 2",
   "language": "python",
   "name": "python2"
  },
  "language_info": {
   "codemirror_mode": {
    "name": "ipython",
    "version": 2
   },
   "file_extension": ".py",
   "mimetype": "text/x-python",
   "name": "python",
   "nbconvert_exporter": "python",
   "pygments_lexer": "ipython2",
   "version": "2.7.12"
  }
 },
 "nbformat": 4,
 "nbformat_minor": 2
}
