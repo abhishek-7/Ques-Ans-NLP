{
 "cells": [
  {
   "cell_type": "code",
   "execution_count": 3,
   "metadata": {
    "collapsed": true
   },
   "outputs": [],
   "source": [
    "import nltk\n",
    "import numpy as np\n",
    "import pandas as pd\n",
    "import spacy\n",
    "import regex\n",
    "model_path = '/home/ayush/spaCy/models/en_core_web_sm-2.0.0/en_core_web_sm/en_core_web_sm-2.0.0'"
   ]
  },
  {
   "cell_type": "code",
   "execution_count": 4,
   "metadata": {
    "collapsed": false
   },
   "outputs": [],
   "source": [
    "nlpSpacy = spacy.load(model_path)"
   ]
  },
  {
   "cell_type": "code",
   "execution_count": 8,
   "metadata": {
    "collapsed": false
   },
   "outputs": [],
   "source": [
    "\"\"\"\n",
    "1. Tokenization\n",
    "2. Pos Tagging\n",
    "3. NER (Named Entity Recognition) : \n",
    "    a. Split the sentences.\n",
    "    b. For the sentence use the ne_chunk using its tags\n",
    "    c. return the pos_tags, named_entities\n",
    "\"\"\"\n",
    "def preprocess(S):\n",
    "    sentences = S.split('.')\n",
    "    pos_tags = []\n",
    "    named_entity = []\n",
    "    for sentence in sentences:\n",
    "        pos_tags.append(nltk.pos_tag(nltk.word_tokenize(sentence)))\n",
    "        parse_tree = nltk.ne_chunk(nltk.tag.pos_tag(sentence.split()), binary=True)\n",
    "        for tree in parse_tree.subtrees():\n",
    "            if tree.label()=='NE':\n",
    "                entity = \"\"\n",
    "                for t in tree:\n",
    "                    entity+=t[0]+\" \"\n",
    "                named_entity.append(entity[:-1])\n",
    "        \n",
    "    return (pos_tags, named_entity)\n",
    "\n",
    "def to_nltk_tree(node):\n",
    "    if node.n_lefts + node.n_rights > 0:\n",
    "        return nltk.Tree(node.orth_, [to_nltk_tree(child) for child in node.children])\n",
    "    else:\n",
    "        return node.orth_\n",
    "\n",
    "\n",
    "def dependency_tree(sentence):\n",
    "    sentence = unicode(sentence, 'utf-8')\n",
    "    doc = nlpSpacy(sentence)\n",
    "\n",
    "    for ent in doc.ents:\n",
    "        print(ent.text, ent.start_char, ent.end_char, ent.label_)\n",
    "    \n",
    "    [to_nltk_tree(sent.root).pretty_print() for sent in doc.sents]"
   ]
  },
  {
   "cell_type": "code",
   "execution_count": 6,
   "metadata": {
    "collapsed": true
   },
   "outputs": [
    {
     "name": "stdout",
     "output_type": "stream",
     "text": [
      "(u'Catholic', 34, 42, u'NORP')\n",
      "                     has                         \n",
      "        ______________|____________               \n",
      "       |         |  school     character         \n",
      "       |         |    |      ______|________      \n",
      "Architecturally  ,   the    a            Catholic\n",
      "\n",
      "(u\"the Main Building's\", 6, 25, u'FAC')\n",
      "(u'the Virgin Mary', 58, 73, u'PERSON')\n",
      "                             is                           \n",
      "           __________________|________                     \n",
      "         Atop                       statue                \n",
      "  ________|____                   ____|_________           \n",
      " |            dome               |    |         of        \n",
      " |    _________|______           |    |         |          \n",
      " |   |             Building      |    |        Mary       \n",
      " |   |     ___________|______    |    |      ___|_____     \n",
      "    gold the         Main    's  a  golden the      Virgin\n",
      "\n",
      "(u' Immediately', 0, 12, u'ORG')\n",
      "(u'the Main Building', 25, 42, u'FAC')\n",
      "(u'Venite Ad Me Omnes', 123, 141, u'ORG')\n",
      "                                                  is                                            \n",
      "  ________________________________________________|__________________                            \n",
      " |   |           |                                                 statue                       \n",
      " |   |           |                                 __________________|___________                \n",
      " |   |           |                                |    |      |                 with            \n",
      " |   |           |                                |    |      |                  |               \n",
      " |   |      Immediately                           |    |      |                 arms            \n",
      " |   |    _______|_______                         |    |      |                  |               \n",
      " |   |   |               in                       |    |      |               upraised          \n",
      " |   |   |        _______|__________________      |    |      |                  |               \n",
      " |   |   |       |           front          |     |    |      |                 with            \n",
      " |   |   |       |             |            |     |    |      |                  |               \n",
      " |   |   |       |             of           |     |    |      |                legend           \n",
      " |   |   |       |             |            |     |    |      |       ___________|_______        \n",
      " |   |   |       |          Building      facing  |    |      of     |     |           Omnes    \n",
      " |   |   |       |        _____|______      |     |    |      |      |     |      _______|____   \n",
      " ,   \"          and     the          Main   it    a  copper Christ  the    \"   Venite    Ad   Me\n",
      "\n",
      "(u'the Main Building', 9, 26, u'FAC')\n",
      "                   is                           \n",
      "      _____________|__________                   \n",
      "    Next                   Basilica             \n",
      "  ___|______             _____|_______           \n",
      " |          to          |             of        \n",
      " |          |           |             |          \n",
      " |       Building       |           Heart       \n",
      " |    ______|______     |      _______|_____     \n",
      "    the           Main the   the          Sacred\n",
      "\n",
      "(u'Grotto', 40, 46, u'GPE')\n",
      "(u'Marian', 50, 56, u'NORP')\n",
      "                                 is                                    \n",
      "               __________________|____                                  \n",
      "              |                     Grotto                             \n",
      "              |               ________|______                           \n",
      "              |              |   |         place                       \n",
      "              |              |   |     ______|__________                \n",
      "            behind           |   |    |      |          of             \n",
      "      ________|_______       |   |    |      |          |               \n",
      "Immediately        basilica  |   |    |      |        prayer           \n",
      "     |                |      |   |    |      |      ____|________       \n",
      "                     the    the  ,    a    Marian and        reflection\n",
      "\n",
      "(u'France', 43, 49, u'GPE')\n",
      "(u'the Virgin Mary', 56, 71, u'PERSON')\n",
      "(u'Saint Bernadette Soubirous', 94, 120, u'ORG')\n",
      "(u'1858', 124, 128, u'DATE')\n",
      "     is                                                                      \n",
      "  ___|_____                                                                   \n",
      " |      replica                                                              \n",
      " |    _____|______                                                            \n",
      " |   |            of                                                         \n",
      " |   |            |                                                           \n",
      " |   |          grotto                                                       \n",
      " |   |      ______|_______                                                    \n",
      " |   |     |              at                                                 \n",
      " |   |     |              |                                                   \n",
      " |   |     |           Lourdes                                               \n",
      " |   |     |       _______|_________________                                  \n",
      " |   |     |      |                       France                             \n",
      " |   |     |      |                         |                                 \n",
      " |   |     |      |                      appeared                            \n",
      " |   |     |      |        _________________|_____________________________    \n",
      " |   |     |      |       |        |               |              to      |  \n",
      " |   |     |      |       |        |               |              |       |   \n",
      " |   |     |      |       |        |               |          Soubirous   |  \n",
      " |   |     |      |       |        |               |              |       |   \n",
      " It  |     |      |       |        |              Mary        Bernadette  in \n",
      " |   |     |      |       |        |         ______|_____         |       |   \n",
      "     a    the     ,     where  reputedly   the         Virgin   Saint    1858\n",
      "\n",
      "(u'3', 74, 75, u'CARDINAL')\n",
      "(u'the Gold Dome', 88, 101, u'ORG')\n",
      "(u'Mary', 140, 144, u'PERSON')\n",
      "                                                   At                                                                    \n",
      "  _________________________________________________|_______________                                                       \n",
      " |       |                                                         is                                                    \n",
      " |       |               __________________________________________|_______________________________                       \n",
      " |       |              |   |   |       in                                                         |                     \n",
      " |       |              |   |   |    ___|____                                                      |                      \n",
      " |       |              |   |   |   |       line                                                   |                     \n",
      " |       |              |   |   |   |    ____|____________                                         |                      \n",
      " |       |              |   |   |   |   |    |         connects                                    |                     \n",
      " |       |              |   |   |   |   |    |      ______|________                                |                      \n",
      " |      end             |   |   |   |   |    |     |            through                            |                     \n",
      " |    ___|____          |   |   |   |   |    |     |               |                               |                      \n",
      " |   |        of        |   |   |   |   |    |     |            statues                          statue                  \n",
      " |   |        |         |   |   |   |   |    |     |       ________|_________           ___________|__________________    \n",
      " |   |      drive       |   |   |   |   |    |     |      |        |        Dome       |    |      |      |      |    of \n",
      " |   |    ____|____     |   |   |   |   |    |     |      |        |      ___|____     |    |      |      |      |    |   \n",
      "    the the       main  (  and  ,   )   a  direct that    3       and   the      Gold  a  simple   ,    modern stone Mary\n",
      "\n"
     ]
    }
   ],
   "source": [
    "sen =  \"Architecturally, the school has a Catholic character. Atop the Main Building\\'s gold dome is a golden statue of the Virgin Mary. Immediately in front of the Main Building and facing it, is a copper statue of Christ with arms upraised with the legend \\\"Venite Ad Me Omnes\\\". Next to the Main Building is the Basilica of the Sacred Heart. Immediately behind the basilica is the Grotto, a Marian place of prayer and reflection. It is a replica of the grotto at Lourdes, France where the Virgin Mary reputedly appeared to Saint Bernadette Soubirous in 1858. At the end of the main drive (and in a direct line that connects through 3 statues and the Gold Dome), is a simple, modern stone statue of Mary.\"\n",
    "sen = sen.split('.')\n",
    "del sen[-1]\n",
    "for s in sen:\n",
    "    dependency_tree(s)"
   ]
  },
  {
   "cell_type": "code",
   "execution_count": 9,
   "metadata": {
    "collapsed": false
   },
   "outputs": [
    {
     "name": "stdout",
     "output_type": "stream",
     "text": [
      "['Main', 'Virgin']\n"
     ]
    }
   ],
   "source": [
    "print preprocess(\" Atop the Main Building's gold dome is a golden statue of the Virgin Mary\")"
   ]
  },
  {
   "cell_type": "code",
   "execution_count": null,
   "metadata": {
    "collapsed": true
   },
   "outputs": [],
   "source": []
  }
 ],
 "metadata": {
  "kernelspec": {
   "display_name": "Python 2",
   "language": "python",
   "name": "python2"
  },
  "language_info": {
   "codemirror_mode": {
    "name": "ipython",
    "version": 2
   },
   "file_extension": ".py",
   "mimetype": "text/x-python",
   "name": "python",
   "nbconvert_exporter": "python",
   "pygments_lexer": "ipython2",
   "version": "2.7.12"
  }
 },
 "nbformat": 4,
 "nbformat_minor": 2
}
