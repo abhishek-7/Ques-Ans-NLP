{
 "cells": [
  {
   "cell_type": "code",
   "execution_count": 4,
   "metadata": {
    "collapsed": true
   },
   "outputs": [],
   "source": [
    "import nltk\n",
    "import numpy as np\n",
    "import pandas as pd\n",
    "import spacy\n",
    "import regex\n",
    "model_path = '/home/ayush/spaCy/models/en_core_web_sm-2.0.0/en_core_web_sm/en_core_web_sm-2.0.0'\n",
    "\n",
    "nlp = spacy.load(model_path)"
   ]
  },
  {
   "cell_type": "code",
   "execution_count": 5,
   "metadata": {
    "collapsed": false
   },
   "outputs": [],
   "source": [
    "S = \"The Scientists know many things about the Sun. They know how old it is. The Sun is more than 4½ billion years old. They also know the Sun’s size. The Sun may seem small, but that is because it is so far away. It is about 93 million miles (150 million kilometers) away from the Earth. The Sun is so large that the diameter of the Sun is  109 times the Earth’s diameter. The Sun also weighs as much as 333,000 Earths. The Sun is the center of our Solar System. Besides the Sun, the Solar System is made up of the planets,  moons, asteroid belt, comets, meteors, and other objects.\""
   ]
  },
  {
   "cell_type": "code",
   "execution_count": 6,
   "metadata": {
    "collapsed": false
   },
   "outputs": [],
   "source": [
    "words = nltk.pos_tag(nltk.word_tokenize(S))"
   ]
  },
  {
   "cell_type": "code",
   "execution_count": 7,
   "metadata": {
    "collapsed": false
   },
   "outputs": [
    {
     "name": "stdout",
     "output_type": "stream",
     "text": [
      "130\n"
     ]
    }
   ],
   "source": [
    "words_stop = [w for w in words if w not in nltk.corpus.stopwords.words()]\n",
    "print len(words_stop)"
   ]
  },
  {
   "cell_type": "code",
   "execution_count": 8,
   "metadata": {
    "collapsed": false
   },
   "outputs": [],
   "source": [
    "S2 = \"Vijay Bhatkar is the chancellor of Nalanda University. He lives in Rohini Delhi.\""
   ]
  },
  {
   "cell_type": "code",
   "execution_count": 9,
   "metadata": {
    "collapsed": false
   },
   "outputs": [],
   "source": [
    "\"\"\"\n",
    "1. Tokenization\n",
    "2. Pos Tagging\n",
    "3. NER (Named Entity Recognition) : \n",
    "    a. Split the sentences.\n",
    "    b. For the sentence use the ne_chunk using its tags\n",
    "    c. return the pos_tags, named_entities\n",
    "\"\"\"\n",
    "def preprocess(S):\n",
    "    sentences = S.split('.')\n",
    "    pos_tags = []\n",
    "    named_entity = []\n",
    "    for sentence in sentences:\n",
    "        pos_tags.append(nltk.pos_tag(nltk.word_tokenize(sentence)))\n",
    "        parse_tree = nltk.ne_chunk(nltk.tag.pos_tag(sentence.split()), binary=True)\n",
    "        for tree in parse_tree.subtrees():\n",
    "            if tree.label()=='NE':\n",
    "                entity = \"\"\n",
    "                for t in tree:\n",
    "                    entity+=t[0]+\" \"\n",
    "                named_entity.append(entity[:-1])\n",
    "        \n",
    "    return (pos_tags, named_entity)\n",
    "\n",
    "def to_nltk_tree(node):\n",
    "    if node.n_lefts + node.n_rights > 0:\n",
    "        return nltk.Tree(node.orth_, [to_nltk_tree(child) for child in node.children])\n",
    "    else:\n",
    "        return node.orth_\n",
    "\n",
    "\n",
    "def dependency_tree(sentence):\n",
    "    doc = nlp(sentence)\n",
    "\n",
    "    for ent in doc.ents:\n",
    "        print(ent.text, ent.start_char, ent.end_char, ent.label_)\n",
    "    \n",
    "    [to_nltk_tree(sent.root).pretty_print() for sent in doc.sents]"
   ]
  },
  {
   "cell_type": "code",
   "execution_count": 10,
   "metadata": {
    "collapsed": true
   },
   "outputs": [],
   "source": [
    "# for s in temp_s:\n",
    "#     dependency_tree(s)"
   ]
  },
  {
   "cell_type": "code",
   "execution_count": 11,
   "metadata": {
    "collapsed": false
   },
   "outputs": [],
   "source": [
    "from stanfordcorenlp import StanfordCoreNLP\n",
    "from stanfordcorenlp import StanfordCoreNLP as stnlp\n",
    "nlp = stnlp(r'/home/ayush/stanford-corenlp-full-2018-01-31')"
   ]
  },
  {
   "cell_type": "code",
   "execution_count": 170,
   "metadata": {
    "collapsed": false
   },
   "outputs": [],
   "source": [
    "def get3tags(sentence):\n",
    "    #Sentence is of form NP - VP - NP, NP - VP(NP)\n",
    "    #PARSE TREE GENERATION\n",
    "    sentence = nlp.parse(sentence)\n",
    "    sentence = str(sentence)\n",
    "\n",
    "    ar = [a.strip() for a in sentence.split('\\n')]\n",
    "    sentence = ''.join(ar)\n",
    "    mapping = getMapping(sentence)\n",
    "       \n",
    "    (subject, idxSubjEnd) = getSubject(sentence, mapping)\n",
    "    remainString = sentence[idxSubjEnd+1:]\n",
    "    idxVerb = idxSubjEnd+remainString.index('VP')\n",
    "    idxVerbEnd = mapping[idxVerb]+1\n",
    "\n",
    "    verbString = sentence[idxVerb:idxVerbEnd]\n",
    "    remainString = sentence[idxVerbEnd+1:]\n",
    "\n",
    "    #VERB contains VP or VP(NP)\n",
    "    verb =  sentence[idxVerb:idxVerbEnd]\n",
    "\n",
    "    try:\n",
    "        #VP - NP\n",
    "        idxObj = idxVerbEnd+remainString.index('NP')\n",
    "        idxObjEnd = mapping[idxObj]\n",
    "        obj = sentence[idxObj:idxObjEnd]\n",
    "    except:\n",
    "        try:\n",
    "            #VP(NP)\n",
    "            idxObj = idxVerb+verbString.index('NP')-1\n",
    "            idxObjEnd = mapping[idxObj]\n",
    "            verb = sentence[idxVerb:idxObj]\n",
    "            obj = sentence[idxObj:idxObjEnd]\n",
    "        except:\n",
    "            #No Object\n",
    "            obj = \"\"    \n",
    "        \n",
    "    return (subject, verb, obj)\n",
    "\n",
    "def getSubject(sentence, mapping):\n",
    "    subject = \"\"\n",
    "    idxSubjEnd = 0\n",
    "    try:\n",
    "        idxSubj = sentence.index('NP')-1\n",
    "        idxSubjEnd = mapping[idxSubj]+1\n",
    "        subject = sentence[idxSubj:idxSubjEnd]\n",
    "\n",
    "        remainString = sentence[mapping[idxSubj]+1:]\n",
    "\n",
    "        #SUBJECT\n",
    "        try:\n",
    "            idxVerb = idxSubjEnd+remainString.index('VP')-1\n",
    "            subject = subject+sentence[idxSubjEnd+1:idxVerb]\n",
    "            idxSubjEnd = idxVerb\n",
    "        except:\n",
    "            pass\n",
    "    except:\n",
    "        pass\n",
    "    return (subject, idxSubjEnd)\n",
    "\n",
    "def getMapping(sentence):\n",
    "    open_bracket = []\n",
    "    mapping = {}\n",
    "    for i,j in enumerate(sentence):\n",
    "        if(j=='('):\n",
    "            open_bracket.append(i)\n",
    "        elif (j==')'):\n",
    "            mapping[open_bracket[-1]] = i\n",
    "            del open_bracket[-1]\n",
    "    return mapping"
   ]
  },
  {
   "cell_type": "code",
   "execution_count": 172,
   "metadata": {
    "collapsed": false
   },
   "outputs": [
    {
     "data": {
      "text/plain": [
       "['Architecturally, the school has a Catholic character',\n",
       " \" Atop the Main Building's gold dome is a golden statue of the Virgin Mary\",\n",
       " ' Immediately in front of the Main Building and facing it, is a copper statue of Christ with arms upraised with the legend \"Venite Ad Me Omnes\"',\n",
       " ' Next to the Main Building is the Basilica of the Sacred Heart',\n",
       " ' Immediately behind the basilica is the Grotto, a Marian place of prayer and reflection',\n",
       " ' It is a replica of the grotto at Lourdes, France where the Virgin Mary reputedly appeared to Saint Bernadette Soubirous in 1858',\n",
       " ' At the end of the main drive (and in a direct line that connects through 3 statues and the Gold Dome), is a simple, modern stone statue of Mary']"
      ]
     },
     "execution_count": 172,
     "metadata": {},
     "output_type": "execute_result"
    }
   ],
   "source": [
    "sen = \"Architecturally, the school has a Catholic character. Atop the Main Building\\'s gold dome is a golden statue of the Virgin Mary. Immediately in front of the Main Building and facing it, is a copper statue of Christ with arms upraised with the legend \\\"Venite Ad Me Omnes\\\". Next to the Main Building is the Basilica of the Sacred Heart. Immediately behind the basilica is the Grotto, a Marian place of prayer and reflection. It is a replica of the grotto at Lourdes, France where the Virgin Mary reputedly appeared to Saint Bernadette Soubirous in 1858. At the end of the main drive (and in a direct line that connects through 3 statues and the Gold Dome), is a simple, modern stone statue of Mary.\"\n",
    "sen = sen.split('.')\n",
    "del sen[-1]\n",
    "sen"
   ]
  },
  {
   "cell_type": "code",
   "execution_count": 174,
   "metadata": {
    "collapsed": false
   },
   "outputs": [
    {
     "name": "stdout",
     "output_type": "stream",
     "text": [
      "Architecturally, the school has a Catholic character\n",
      "SUBJECT :  (NP(NP (DT the) (NN end))(PP (IN of)(NP (DT the) (JJ main) (NN drive))))(, ,)\n",
      "VERB :  (VP (VBZ is))\n",
      "OBJECT :  (NP(NP (DT a) (JJ simple) (, ,) (JJ modern) (NN stone) (NN statue))(PP (IN of)(NP (NNP Mary)))\n",
      "--------------------------------------------------------------------------------------------------------------\n",
      " Atop the Main Building's gold dome is a golden statue of the Virgin Mary\n",
      "SUBJECT :  (NP(NP (DT the) (NN end))(PP (IN of)(NP (DT the) (JJ main) (NN drive))))(, ,)\n",
      "VERB :  (VP (VBZ is))\n",
      "OBJECT :  (NP(NP (DT a) (JJ simple) (, ,) (JJ modern) (NN stone) (NN statue))(PP (IN of)(NP (NNP Mary)))\n",
      "--------------------------------------------------------------------------------------------------------------\n",
      " Immediately in front of the Main Building and facing it, is a copper statue of Christ with arms upraised with the legend \"Venite Ad Me Omnes\"\n",
      "SUBJECT :  (NP(NP (DT the) (NN end))(PP (IN of)(NP (DT the) (JJ main) (NN drive))))(, ,)\n",
      "VERB :  (VP (VBZ is))\n",
      "OBJECT :  (NP(NP (DT a) (JJ simple) (, ,) (JJ modern) (NN stone) (NN statue))(PP (IN of)(NP (NNP Mary)))\n",
      "--------------------------------------------------------------------------------------------------------------\n",
      " Next to the Main Building is the Basilica of the Sacred Heart\n",
      "SUBJECT :  (NP(NP (DT the) (NN end))(PP (IN of)(NP (DT the) (JJ main) (NN drive))))(, ,)\n",
      "VERB :  (VP (VBZ is))\n",
      "OBJECT :  (NP(NP (DT a) (JJ simple) (, ,) (JJ modern) (NN stone) (NN statue))(PP (IN of)(NP (NNP Mary)))\n",
      "--------------------------------------------------------------------------------------------------------------\n",
      " Immediately behind the basilica is the Grotto, a Marian place of prayer and reflection\n",
      "SUBJECT :  (NP(NP (DT the) (NN end))(PP (IN of)(NP (DT the) (JJ main) (NN drive))))(, ,)\n",
      "VERB :  (VP (VBZ is))\n",
      "OBJECT :  (NP(NP (DT a) (JJ simple) (, ,) (JJ modern) (NN stone) (NN statue))(PP (IN of)(NP (NNP Mary)))\n",
      "--------------------------------------------------------------------------------------------------------------\n",
      " It is a replica of the grotto at Lourdes, France where the Virgin Mary reputedly appeared to Saint Bernadette Soubirous in 1858\n",
      "SUBJECT :  (NP(NP (DT the) (NN end))(PP (IN of)(NP (DT the) (JJ main) (NN drive))))(, ,)\n",
      "VERB :  (VP (VBZ is))\n",
      "OBJECT :  (NP(NP (DT a) (JJ simple) (, ,) (JJ modern) (NN stone) (NN statue))(PP (IN of)(NP (NNP Mary)))\n",
      "--------------------------------------------------------------------------------------------------------------\n",
      " At the end of the main drive (and in a direct line that connects through 3 statues and the Gold Dome), is a simple, modern stone statue of Mary\n",
      "SUBJECT :  (NP(NP (DT the) (NN end))(PP (IN of)(NP (DT the) (JJ main) (NN drive))))(, ,)\n",
      "VERB :  (VP (VBZ is))\n",
      "OBJECT :  (NP(NP (DT a) (JJ simple) (, ,) (JJ modern) (NN stone) (NN statue))(PP (IN of)(NP (NNP Mary)))\n",
      "--------------------------------------------------------------------------------------------------------------\n"
     ]
    }
   ],
   "source": [
    "for st in sen:\n",
    "    print st\n",
    "    # Removes brackets and its contents\n",
    "    st =  regex.subf(r\"\\((?:[^()]++|(?R))*+\\)\", \"\", string)\n",
    "    (sub, verb, obj) = get3tags(st)\n",
    "    print \"SUBJECT : \", sub\n",
    "    print \"VERB : \", verb\n",
    "    print \"OBJECT : \", obj\n",
    "    print \"--------------------------------------------------------------------------------------------------------------\""
   ]
  }
 ],
 "metadata": {
  "kernelspec": {
   "display_name": "Python 2",
   "language": "python",
   "name": "python2"
  },
  "language_info": {
   "codemirror_mode": {
    "name": "ipython",
    "version": 2
   },
   "file_extension": ".py",
   "mimetype": "text/x-python",
   "name": "python",
   "nbconvert_exporter": "python",
   "pygments_lexer": "ipython2",
   "version": "2.7.12"
  }
 },
 "nbformat": 4,
 "nbformat_minor": 2
}
