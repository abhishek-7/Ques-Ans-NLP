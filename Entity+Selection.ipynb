{
 "cells": [
  {
   "cell_type": "code",
   "execution_count": 16,
   "metadata": {},
   "outputs": [
    {
     "name": "stdout",
     "output_type": "stream",
     "text": [
      "Loading neuralcoref model from d:\\python27\\lib\\site-packages\\neuralcoref\\weights/\n",
      "Loading spacy model\n",
      "\n",
      "    Info about model en_core_web_sm\n",
      "\n",
      "    lang               en             \n",
      "    pipeline           [u'tagger', u'parser', u'ner']\n",
      "    name               core_web_sm    \n",
      "    license            CC BY-SA 3.0   \n",
      "    author             Explosion AI   \n",
      "    url                https://explosion.ai\n",
      "    description        English multi-task CNN trained on OntoNotes, with GloVe vectors trained on Common Crawl. Assigns word vectors, context-specific token vectors, POS tags, dependency parse and named entities.\n",
      "    vectors            {u'keys': 0, u'width': 0, u'vectors': 0}\n",
      "    sources            [u'OntoNotes 5', u'Common Crawl']\n",
      "    version            2.0.0          \n",
      "    source             d:\\python27\\lib\\site-packages\\en_core_web_sm\n",
      "    spacy_version      >=2.0.0a18     \n",
      "    parent_package     spacy          \n",
      "    speed              {u'gpu': None, u'nwords': 291344, u'cpu': 5122.3040471407}\n",
      "    email              contact@explosion.ai\n",
      "    accuracy           {u'token_acc': 99.8698372794, u'ents_p': 84.9664503965, u'ents_r': 85.6312524451, u'uas': 91.7237657538, u'tags_acc': 97.0403350292, u'ents_f': 85.2975560875, u'las': 89.800872413}\n",
      "\n",
      "Loading embeddings from d:\\python27\\lib\\site-packages\\neuralcoref\\weights/static_word\n",
      "Loading embeddings from d:\\python27\\lib\\site-packages\\neuralcoref\\weights/tuned_word\n",
      "[Maria, a dog, It, She,  market, market, It]\n",
      "[Maria has a dog.It is very loyal. She goes to  market. It also goes.]\n",
      "[u'Maria has a dog.a dog is very loyal. maria goes to  market. a dog also goes.']\n"
     ]
    }
   ],
   "source": [
    "import numpy as np\n",
    "from neuralcoref import Coref\n",
    "coref=Coref()\n",
    "\n",
    "cluster=coref.continuous_coref(utterances=u'Maria has a dog.It is very loyal. She goes to  market. It also goes.')\n",
    "#print cluster\n",
    "mentions = coref.get_mentions()\n",
    "print(mentions)\n",
    "\n",
    "utterances = coref.get_utterances()\n",
    "print(utterances)\n",
    "\n",
    "resolved_utterance_text = coref.get_resolved_utterances()\n",
    "print resolved_utterance_text\n"
   ]
  },
  {
   "cell_type": "code",
   "execution_count": 12,
   "metadata": {},
   "outputs": [],
   "source": [
    "pronouns=['I','Me','My','Myself','you','your','yours','yourself','he','his','him','himself','she','hers','her','herself','it',\n",
    "         'its','itself','they','them','their','theirs','themselves','we','us','our','ourselves','you','your','yours',\n",
    "         'yourselves']\n",
    "mentions_arr=np.asarray(mentions)\n",
    "mentions_arr=np.unique(mentions_arr)\n",
    "mention_arr=[]\n",
    "for word in mentions_arr:\n",
    "    mention_arr.append(str(word))\n",
    "entities=[]\n",
    "space=\" \"\n",
    "for word in mention_arr:\n",
    "    if word.lower() in pronouns:\n",
    "        continue\n",
    "    if space in word:\n",
    "        if word[0]==\"a\" and word[1]==\" \":\n",
    "            #print word[2:]\n",
    "            entities.append(word[2:])\n",
    "        elif word[:3]==\"the\" and word[3]==\" \":\n",
    "            #print word[4:]\n",
    "            entities.append(word[4:])\n",
    "        elif word[:1]==\"an\" and word[2]==\" \":\n",
    "            entities.append(word[3:])\n",
    "    else:\n",
    "        entities.append(word)\n",
    "        \n"
   ]
  },
  {
   "cell_type": "code",
   "execution_count": 13,
   "metadata": {},
   "outputs": [
    {
     "data": {
      "text/plain": [
       "['Maria', 'dog', 'market']"
      ]
     },
     "execution_count": 13,
     "metadata": {},
     "output_type": "execute_result"
    }
   ],
   "source": [
    "entities"
   ]
  },
  {
   "cell_type": "code",
   "execution_count": null,
   "metadata": {},
   "outputs": [],
   "source": []
  }
 ],
 "metadata": {
  "kernelspec": {
   "display_name": "Python 2",
   "language": "python",
   "name": "python2"
  },
  "language_info": {
   "codemirror_mode": {
    "name": "ipython",
    "version": 2
   },
   "file_extension": ".py",
   "mimetype": "text/x-python",
   "name": "python",
   "nbconvert_exporter": "python",
   "pygments_lexer": "ipython2",
   "version": "2.7.13"
  }
 },
 "nbformat": 4,
 "nbformat_minor": 2
}
