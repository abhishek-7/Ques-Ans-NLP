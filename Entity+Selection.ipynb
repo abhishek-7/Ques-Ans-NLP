{
 "cells": [
  {
   "cell_type": "code",
   "execution_count": 4,
   "metadata": {
    "collapsed": false
   },
   "outputs": [],
   "source": [
    "import numpy as np\n",
    "from neuralcoref import Coref"
   ]
  },
  {
   "cell_type": "code",
   "execution_count": 29,
   "metadata": {
    "collapsed": true
   },
   "outputs": [],
   "source": [
    "def getEntity(sen):\n",
    "    \n",
    "    coref=Coref()\n",
    "    cluster=coref.continuous_coref(utterances=unicode(sen, 'utf-8'))\n",
    "    #print cluster\n",
    "    mentions = coref.get_mentions()\n",
    "#     utterances = coref.get_utterances()\n",
    "#     print(utterances)\n",
    "    resolved_utterance_text = coref.get_resolved_utterances()\n",
    "    mentions = [str(m) for m in mentions]\n",
    "    resolved_utterance_text = str(resolved_utterance_text[0])\n",
    "    return (mentions, resolved_utterance_text)"
   ]
  },
  {
   "cell_type": "code",
   "execution_count": 54,
   "metadata": {
    "collapsed": true
   },
   "outputs": [],
   "source": [
    "sen = \"Architecturally, the school has a Catholic character. Atop the Main Building gold dome is a golden statue of the Virgin Mary. Immediately in front of the Main Building and facing it, is a copper statue of Christ with arms upraised with the legend \\\"Venite Ad Me Omnes\\\". Next to the Main Building is the Basilica of the Sacred Heart. Immediately behind the basilica is the Grotto, a Marian place of prayer and reflection. It is a replica of the grotto at Lourdes, France where the Virgin Mary reputedly appeared to Saint Bernadette Soubirous in 1858. At the end of the main drive, is a simple, modern stone statue of Mary.\""
   ]
  },
  {
   "cell_type": "code",
   "execution_count": 55,
   "metadata": {
    "collapsed": false
   },
   "outputs": [
    {
     "name": "stdout",
     "output_type": "stream",
     "text": [
      "Loading embeddings from /usr/local/lib/python2.7/dist-packages/neuralcoref/weights/static_word\n",
      "Loading embeddings from /usr/local/lib/python2.7/dist-packages/neuralcoref/weights/tuned_word\n"
     ]
    }
   ],
   "source": [
    "mentions, resolved_utterance_text = getEntity(sen)"
   ]
  },
  {
   "cell_type": "code",
   "execution_count": 56,
   "metadata": {
    "collapsed": false
   },
   "outputs": [],
   "source": [
    "mention_modified = [m for m in mentions if m not in resolved_utterance_text]"
   ]
  },
  {
   "cell_type": "code",
   "execution_count": 57,
   "metadata": {
    "collapsed": false
   },
   "outputs": [
    {
     "data": {
      "text/plain": [
       "['the school',\n",
       " 'Catholic',\n",
       " 'a Catholic character',\n",
       " 'the Main Building gold dome',\n",
       " 'a golden statue of the Virgin Mary',\n",
       " 'a golden statue',\n",
       " 'the Virgin Mary',\n",
       " 'Immediately in front of the Main Building and facing it',\n",
       " 'Immediately in front of the Main Building',\n",
       " 'front of the Main Building',\n",
       " 'front',\n",
       " 'the Main Building',\n",
       " 'it',\n",
       " 'a copper statue of Christ with arms upraised with the legend \"Venite Ad Me Omnes\"',\n",
       " 'a copper statue',\n",
       " 'Christ',\n",
       " 'arms upraised with the legend \"Venite Ad Me Omnes\"',\n",
       " 'the legend \"Venite Ad Me Omnes\"',\n",
       " 'Venite Ad Me Omnes',\n",
       " 'the Main Building',\n",
       " 'the Basilica of the Sacred Heart',\n",
       " 'the Basilica',\n",
       " 'the Sacred Heart',\n",
       " 'Immediately behind the basilica',\n",
       " 'the basilica',\n",
       " 'the Grotto, a Marian place of prayer and reflection',\n",
       " 'Grotto',\n",
       " 'Marian',\n",
       " 'prayer and reflection',\n",
       " 'prayer',\n",
       " 'reflection',\n",
       " 'It',\n",
       " 'a replica of the grotto at Lourdes, France where the Virgin Mary reputedly appeared to Saint Bernadette Soubirous in 1858',\n",
       " 'a replica',\n",
       " 'the grotto at Lourdes, France where the Virgin Mary reputedly appeared to Saint Bernadette Soubirous in 1858',\n",
       " 'the grotto',\n",
       " 'Lourdes',\n",
       " 'Lourdes, France where the Virgin Mary reputedly appeared to Saint Bernadette Soubirous in 1858',\n",
       " 'France',\n",
       " 'the Virgin Mary',\n",
       " 'Saint Bernadette Soubirous',\n",
       " '1858',\n",
       " 'the end of the main drive',\n",
       " 'the end',\n",
       " 'the main drive',\n",
       " 'a simple, modern stone statue of Mary',\n",
       " 'a simple, modern stone statue',\n",
       " 'Mary']"
      ]
     },
     "execution_count": 57,
     "metadata": {},
     "output_type": "execute_result"
    }
   ],
   "source": [
    "mentions"
   ]
  },
  {
   "cell_type": "code",
   "execution_count": 42,
   "metadata": {
    "collapsed": false
   },
   "outputs": [
    {
     "data": {
      "text/plain": [
       "'Architecturally, the school has a Catholic character. Atop the Main Building\\'s gold dome is a golden statue of the Virgin Mary. Immediately in front of the Main Building and facing the main building, is a copper statue of Christ with arms upraised with the legend \"Venite Ad Me Omnes\". Next to the Main Building is the Basilica of the Sacred Heart. Immediately behind the basilica of the sacred heart is the Grotto, a Marian place of prayer and reflection. It is a replica of the grotto at Lourdes, France where the Virgin Mary reputedly appeared to Saint Bernadette Soubirous in 1858. At the end of the main drive, is a simple, modern stone statue of Mary.'"
      ]
     },
     "execution_count": 42,
     "metadata": {},
     "output_type": "execute_result"
    }
   ],
   "source": [
    "resolved_utterance_text"
   ]
  },
  {
   "cell_type": "code",
   "execution_count": 53,
   "metadata": {
    "collapsed": false
   },
   "outputs": [
    {
     "name": "stdout",
     "output_type": "stream",
     "text": [
      "['Architecturally, the school has a Catholic character', \" Atop the Main Building's gold dome is a golden statue of the Virgin Mary\", ' Immediately in front of the Main Building and facing the main building, is a copper statue of Christ with arms upraised with the legend \"Venite Ad Me Omnes\"', ' Next to the Main Building is the Basilica of the Sacred Heart', ' Immediately behind the basilica of the sacred heart is the Grotto, a Marian place of prayer and reflection', ' It is a replica of the grotto at Lourdes, France where the Virgin Mary reputedly appeared to Saint Bernadette Soubirous in 1858', ' At the end of the main drive, is a simple, modern stone statue of Mary', '']\n",
      "['Catholic', 'Mary', 'front', 'Christ', 'Marian', 'prayer', 'reflection', 'It', 'France', '1858', 'Mary', 'Mary']\n"
     ]
    }
   ],
   "source": [
    "print resolved_utterance_text.split(\".\")\n",
    "mention_2 = []\n",
    "for r in resolved_utterance_text.split(\".\"):\n",
    "    mention_2.extend([m for m in mentions if m in r.split(\" \")])\n",
    "print mention_2"
   ]
  },
  {
   "cell_type": "code",
   "execution_count": null,
   "metadata": {
    "collapsed": true
   },
   "outputs": [],
   "source": []
  },
  {
   "cell_type": "code",
   "execution_count": null,
   "metadata": {
    "collapsed": true
   },
   "outputs": [],
   "source": []
  },
  {
   "cell_type": "code",
   "execution_count": null,
   "metadata": {
    "collapsed": true
   },
   "outputs": [],
   "source": []
  },
  {
   "cell_type": "code",
   "execution_count": null,
   "metadata": {
    "collapsed": true
   },
   "outputs": [],
   "source": []
  },
  {
   "cell_type": "code",
   "execution_count": null,
   "metadata": {
    "collapsed": true
   },
   "outputs": [],
   "source": []
  },
  {
   "cell_type": "code",
   "execution_count": null,
   "metadata": {
    "collapsed": true
   },
   "outputs": [],
   "source": [
    "pronouns=['i','me','my','myself','you','your','yours','yourself','he','his','him','himself','she','hers','her','herself','it',\n",
    "         'its','itself','they','them','their','theirs','themselves','we','us','our','ourselves','you','your','yours',\n",
    "         'yourselves','what','when','where','which','who','whom','whose','why','how']\n",
    "mentions_arr=np.asarray(mentions)\n",
    "mentions_arr=np.unique(mentions_arr)\n",
    "mention_arr=[]\n",
    "for word in mentions_arr:\n",
    "    mention_arr.append(str(word))\n",
    "entities=[]\n",
    "space=\" \"\n",
    "for word in mention_arr:\n",
    "    if word.lower() in pronouns:\n",
    "        continue\n",
    "    if space in word:\n",
    "        if word[0].lower()==\"a\" and word[1]==\" \":\n",
    "            #print word[2:]\n",
    "            entities.append(word[2:])\n",
    "        elif word[:3].lower()==\"the\" and word[3]==\" \":\n",
    "            #print word[4:]\n",
    "            entities.append(word[4:])\n",
    "        elif word[:1].lower()==\"an\" and word[2]==\" \":\n",
    "            entities.append(word[3:])\n",
    "    else:\n",
    "        entities.append(word)"
   ]
  }
 ],
 "metadata": {
  "anaconda-cloud": {},
  "kernelspec": {
   "display_name": "Python 2",
   "language": "python",
   "name": "python2"
  },
  "language_info": {
   "codemirror_mode": {
    "name": "ipython",
    "version": 2
   },
   "file_extension": ".py",
   "mimetype": "text/x-python",
   "name": "python",
   "nbconvert_exporter": "python",
   "pygments_lexer": "ipython2",
   "version": "2.7.12"
  }
 },
 "nbformat": 4,
 "nbformat_minor": 2
}
