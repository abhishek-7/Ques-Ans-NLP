{
 "cells": [
  {
   "cell_type": "code",
   "execution_count": 1,
   "metadata": {
    "collapsed": true
   },
   "outputs": [],
   "source": [
    "import nltk\n",
    "import numpy as np\n",
    "import pandas as pd\n",
    "import spacy\n",
    "import regex\n",
    "nlpSpacy = spacy.load('en_core_web_sm')\n",
    "from stanfordcorenlp import StanfordCoreNLP as stnlp\n",
    "nlp = stnlp(r'/home/ayush/stanford-corenlp-full-2018-01-31')"
   ]
  },
  {
   "cell_type": "code",
   "execution_count": 108,
   "metadata": {
    "collapsed": true
   },
   "outputs": [],
   "source": [
    "########################   NER Using SPACY  ###############################\n",
    "def preprocess(sentence):\n",
    "    named_entity = []\n",
    "    \n",
    "    parse_tree = nltk.ne_chunk(nltk.tag.pos_tag(sentence.split()), binary=True)\n",
    "    for tree in parse_tree.subtrees():\n",
    "        if tree.label()=='NE':\n",
    "            entity = \"\"\n",
    "            for t in tree:\n",
    "                entity+=t[0]+\" \"\n",
    "            named_entity.append(entity[:-1])\n",
    "        \n",
    "    return named_entity\n",
    "\n",
    "\n",
    "#######################    All the Proper Nouns   ########################\n",
    "def getAllNNP(sen):\n",
    "    entities = []\n",
    "    for s in sen:\n",
    "        parse = nlp.parse(s)\n",
    "        parse = [str(p).strip() for p in parse.split(\"\\n\")]\n",
    "        for p in parse:\n",
    "            if p.startswith(\"(NP\"):\n",
    "                idxes = [m.start() for m in regex.finditer('\\(NNP ', p)]\n",
    "                if len(idxes)>0:\n",
    "                    prevEnd = -1\n",
    "                    for idx in idxes:\n",
    "                        start = idx+len('\\(NNP ')-1\n",
    "                        end = start+1\n",
    "                        while p[end]!=')':\n",
    "                            end+=1\n",
    "                        if prevEnd+2==idx:\n",
    "                            entities[-1] = entities[-1]+\" \"+p[start:end]\n",
    "                        else:\n",
    "                            entities.append(p[start:end])\n",
    "                        prevEnd = end\n",
    "    \n",
    "    new_entities = []\n",
    "    for ent1 in entities:\n",
    "        count = 0\n",
    "        for ent2 in entities:\n",
    "            if ent1!=ent2:\n",
    "                count+=1 if ent1 in ent2 else 0\n",
    "        if count==0:\n",
    "            new_entities.append(ent1)\n",
    "    return set(new_entities)"
   ]
  },
  {
   "cell_type": "code",
   "execution_count": 17,
   "metadata": {
    "collapsed": true
   },
   "outputs": [],
   "source": [
    "#########################   Bracket Mapping of a Parse Tree   ################################\n",
    "def getMapping(sentence):\n",
    "    open_bracket = []\n",
    "    mapping = {}\n",
    "    for i,j in enumerate(sentence):\n",
    "        if(j=='('):\n",
    "            open_bracket.append(i)\n",
    "        elif (j==')'):\n",
    "            mapping[open_bracket[-1]] = i\n",
    "            del open_bracket[-1]\n",
    "    return mapping"
   ]
  },
  {
   "cell_type": "code",
   "execution_count": 18,
   "metadata": {
    "collapsed": true
   },
   "outputs": [],
   "source": [
    "##########################   SUBJECT ---  VERB --- OBJECT   ###################################\n",
    "def SVO(sentence):\n",
    "    sentence = nlp.parse(sentence)\n",
    "    sentence = str(sentence)\n",
    "    ar = [a.strip() for a in sentence.split('\\n')]\n",
    "    sentence = ''.join(ar)\n",
    "    return getTags(sentence)\n",
    "\n",
    "def getTags(sentence):\n",
    "    mapping = getMapping(sentence)\n",
    "    if '(NP' in sentence:\n",
    "        if '(VP' in sentence:\n",
    "            if sentence.index('(NP')<sentence.index('(VP'):\n",
    "                return getNP(sentence, 0, mapping)\n",
    "            else:\n",
    "                return getVP(sentence, 0, mapping)\n",
    "        else:\n",
    "            return getNP(sentence, 0, mapping)\n",
    "    elif '(VP' in sentence:\n",
    "        return getVP(sentence, 0, mapping)\n",
    "    \n",
    "def getNP(sentence, idxStart, mapping):\n",
    "    res = []\n",
    "    idxNP = sentence.index('(NP')\n",
    "    idxNPend = mapping[idxStart + idxNP] - idxStart\n",
    "    subj = sentence[idxNP:idxNPend]\n",
    "    npAdded = False\n",
    "    \n",
    "    if '(VP' in sentence[idxNP:idxNPend]:\n",
    "        #NP(VP)\n",
    "        remain = sentence[idxNP:idxNPend]\n",
    "        verblist = getVP(remain, idxNP+idxStart, mapping)\n",
    "        if type(verblist) == type('str'):\n",
    "            temp = verblist\n",
    "        else:\n",
    "            temp = verblist[0]\n",
    "        while (type(temp)!=type('str')):\n",
    "            temp = temp[0]\n",
    "        if temp in subj:\n",
    "            idxx = subj.index(temp)\n",
    "            subj = subj[:idxx]\n",
    "        res.append(subj)\n",
    "        res.append(verblist)\n",
    "        npAdded = True    \n",
    "    \n",
    "    remain = sentence[idxNPend+1:]\n",
    "    if '(VP' in remain:\n",
    "        #NP-VP\n",
    "        verblist = getVP(remain, idxNPend+1+idxStart, mapping)\n",
    "        if not npAdded:\n",
    "            res.append(subj)\n",
    "        res.append(verblist)\n",
    "    else:\n",
    "        #NP\n",
    "        if not subj in res:\n",
    "            res.append(subj) \n",
    "    return res\n",
    "        \n",
    "def getVP(sentence, idxStart, mapping):\n",
    "    res = []\n",
    "    idxVP = sentence.index('(VP')\n",
    "    idxVPend = mapping[idxStart + idxVP] - idxStart\n",
    "    verb = sentence[idxVP:idxVPend]\n",
    "    \n",
    "    verbAdded = False\n",
    "    if '(NP' in sentence[idxVP:idxVPend]:\n",
    "        remain = sentence[idxVP:idxVPend]\n",
    "        nplist = getNP(remain, idxVP+idxStart, mapping)\n",
    "        if type(nplist) == type('str'):\n",
    "            temp = nplist\n",
    "        else:\n",
    "            temp = nplist[0]\n",
    "        while (type(temp)!=type('str')):\n",
    "            temp = temp[0]\n",
    "        if temp in verb:\n",
    "            idxx = verb.index(temp)\n",
    "            verb = verb[:idxx]\n",
    "        res.append(verb)\n",
    "        res.append(nplist)\n",
    "        verbAdded = True\n",
    "    \n",
    "    remain = sentence[idxVPend+1:]\n",
    "    if '(NP' in remain:\n",
    "        nplist = getNP(remain, idxVPend+1+idxStart, mapping)\n",
    "        if not verbAdded:\n",
    "            res.append(verb)\n",
    "        res.append(nplist)\n",
    "    else:\n",
    "        if not verb in res:\n",
    "            res.append(verb)\n",
    "    return res"
   ]
  },
  {
   "cell_type": "code",
   "execution_count": 43,
   "metadata": {
    "collapsed": false
   },
   "outputs": [
    {
     "name": "stdout",
     "output_type": "stream",
     "text": [
      "set(['Catholic', 'Basilica', 'Atop Main', 'Christ', 'Saint Bernadette Soubirous', 'Virgin', 'Sacred Heart', 'Main Building'])\n"
     ]
    }
   ],
   "source": [
    "sen =  \"Architecturally, the school has a Catholic character. Atop the Main Building\\'s gold dome is a golden statue of the Virgin Mary. Immediately in front of the Main Building and facing it, is a copper statue of Christ with arms upraised with the legend \\\"Venite Ad Me Omnes\\\". Next to the Main Building is the Basilica of the Sacred Heart. Immediately behind the basilica is the Grotto, a Marian place of prayer and reflection. It is a replica of the grotto at Lourdes, France where the Virgin Mary reputedly appeared to Saint Bernadette Soubirous in 1858. At the end of the main drive (and in a direct line that connects through 3 statues and the Gold Dome), is a simple, modern stone statue of Mary.\"\n",
    "sen = sen.split('.')\n",
    "del sen[-1]\n",
    "\n",
    "stop_words = ['a', 'an', 'the']\n",
    "replace = [\"\\'s\", \"\\'\"]\n",
    "for i in range(len(sen)):\n",
    "    sen[i] = regex.sub(r' \\(.*\\)', '', sen[i])\n",
    "    sen[i] = regex.sub(r'\\(.*\\)', '', sen[i])\n",
    "    for r in replace:\n",
    "        sen[i] = sen[i].replace(r, \"\")\n",
    "    sen[i] = \" \".join([s for s in sen[i].split(\" \") if s not in stop_words])\n",
    "    sen[i] = \" \".join(sen[i].split())\n",
    "entities = []\n",
    "for s in sen:\n",
    "    entities.extend(preprocess(s))\n",
    "entities = set(entities)\n",
    "print entities"
   ]
  },
  {
   "cell_type": "code",
   "execution_count": 109,
   "metadata": {
    "collapsed": false
   },
   "outputs": [
    {
     "data": {
      "text/plain": [
       "{'Christ',\n",
       " 'France',\n",
       " 'Grotto',\n",
       " 'Heart',\n",
       " 'Lourdes',\n",
       " 'Main Building',\n",
       " 'Marian',\n",
       " 'Saint Bernadette Soubirous',\n",
       " 'Virgin Mary'}"
      ]
     },
     "execution_count": 109,
     "metadata": {},
     "output_type": "execute_result"
    }
   ],
   "source": [
    "getAllNNP(sen)"
   ]
  },
  {
   "cell_type": "code",
   "execution_count": 105,
   "metadata": {
    "collapsed": false
   },
   "outputs": [
    {
     "name": "stdout",
     "output_type": "stream",
     "text": [
      "(ROOT\n",
      "  (S\n",
      "    (NP (NN Sister))\n",
      "    (VP (VBZ has)\n",
      "      (NP (NN dog)))))\n"
     ]
    }
   ],
   "source": [
    "print nlp.parse(\"Sister has dog\")"
   ]
  },
  {
   "cell_type": "code",
   "execution_count": null,
   "metadata": {
    "collapsed": true
   },
   "outputs": [],
   "source": []
  }
 ],
 "metadata": {
  "kernelspec": {
   "display_name": "Python 2",
   "language": "python",
   "name": "python2"
  },
  "language_info": {
   "codemirror_mode": {
    "name": "ipython",
    "version": 2
   },
   "file_extension": ".py",
   "mimetype": "text/x-python",
   "name": "python",
   "nbconvert_exporter": "python",
   "pygments_lexer": "ipython2",
   "version": "2.7.12"
  }
 },
 "nbformat": 4,
 "nbformat_minor": 2
}
