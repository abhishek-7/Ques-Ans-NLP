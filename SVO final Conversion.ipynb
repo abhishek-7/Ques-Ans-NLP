{
 "cells": [
  {
   "cell_type": "code",
   "execution_count": 1,
   "metadata": {
    "collapsed": true
   },
   "outputs": [],
   "source": [
    "s = \"(VP (VBG facing)(SBAR(S\""
   ]
  },
  {
   "cell_type": "code",
   "execution_count": 2,
   "metadata": {
    "collapsed": false
   },
   "outputs": [],
   "source": [
    "def getMapping(sentence):\n",
    "    open_bracket = []\n",
    "    mapping = {}\n",
    "    for i,j in enumerate(sentence):\n",
    "        if(j=='('):\n",
    "            open_bracket.append(i)\n",
    "        elif (j==')'):\n",
    "            mapping[open_bracket[-1]] = i\n",
    "            del open_bracket[-1]\n",
    "    return mapping\n",
    "\n",
    "def kuchbhi(offset,s,mapping):\n",
    "    if(s==''):return ''\n",
    "    if('(' not in s and ')' not in s):\n",
    "        words = s.split(' ')\n",
    "        if(len(words)>1):return words[1]\n",
    "        else: return ''\n",
    "    firstOpenBracket = s.index('(')\n",
    "    correspondingClosingBracket = mapping[firstOpenBracket+offset]-offset\n",
    "    return kuchbhi(offset+firstOpenBracket+1,s[firstOpenBracket+1:correspondingClosingBracket],mapping)+' '+ \\\n",
    "           kuchbhi(correspondingClosingBracket+offset+1,s[correspondingClosingBracket+1:],mapping)\n",
    "    \n",
    "def converter(s):\n",
    "    openCount,closingCount = 0,0\n",
    "    for i in s:\n",
    "        if(i=='('):openCount+=1\n",
    "        elif(i==')'):closingCount+=1\n",
    "    if(openCount>closingCount):\n",
    "        s = s+')'*(openCount-closingCount)\n",
    "    elif(closingCount>openCount):\n",
    "        s = '('*(closingCount-openCount)+s\n",
    "    mapping = getMapping(s)\n",
    "    s = kuchbhi(0,s,mapping)\n",
    "    return ' '.join(s.split())"
   ]
  },
  {
   "cell_type": "code",
   "execution_count": 3,
   "metadata": {
    "collapsed": false
   },
   "outputs": [
    {
     "data": {
      "text/plain": [
       "'facing'"
      ]
     },
     "execution_count": 3,
     "metadata": {},
     "output_type": "execute_result"
    }
   ],
   "source": [
    "converter(s)"
   ]
  },
  {
   "cell_type": "code",
   "execution_count": null,
   "metadata": {
    "collapsed": true
   },
   "outputs": [],
   "source": []
  }
 ],
 "metadata": {
  "anaconda-cloud": {},
  "kernelspec": {
   "display_name": "Python [conda root]",
   "language": "python",
   "name": "conda-root-py"
  },
  "language_info": {
   "codemirror_mode": {
    "name": "ipython",
    "version": 3
   },
   "file_extension": ".py",
   "mimetype": "text/x-python",
   "name": "python",
   "nbconvert_exporter": "python",
   "pygments_lexer": "ipython3",
   "version": "3.5.2"
  }
 },
 "nbformat": 4,
 "nbformat_minor": 1
}
