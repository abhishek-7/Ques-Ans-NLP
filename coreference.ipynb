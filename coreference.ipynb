{
 "cells": [
  {
   "cell_type": "code",
   "execution_count": 1,
   "metadata": {
    "collapsed": false
   },
   "outputs": [],
   "source": [
    "import json\n",
    "from stanfordcorenlp import StanfordCoreNLP\n",
    "nlp = StanfordCoreNLP(r'/home/ayush/stanford-corenlp-full-2018-01-31')"
   ]
  },
  {
   "cell_type": "code",
   "execution_count": 2,
   "metadata": {
    "collapsed": false
   },
   "outputs": [],
   "source": [
    "props = {'annotators': 'coref', 'pipelineLanguage': 'en'}"
   ]
  },
  {
   "cell_type": "code",
   "execution_count": 6,
   "metadata": {
    "collapsed": false,
    "scrolled": true
   },
   "outputs": [
    {
     "name": "stdout",
     "output_type": "stream",
     "text": [
      "{u'endIndex': 3, u'animacy': u'ANIMATE', u'text': u'Barack Obama', u'isRepresentativeMention': True, u'number': u'SINGULAR', u'startIndex': 1, u'sentNum': 1, u'gender': u'MALE', u'position': [1, 1], u'headIndex': 2, u'type': u'PROPER', u'id': 0}\n",
      "{u'endIndex': 2, u'animacy': u'ANIMATE', u'text': u'He', u'isRepresentativeMention': False, u'number': u'SINGULAR', u'startIndex': 1, u'sentNum': 2, u'gender': u'MALE', u'position': [2, 2], u'headIndex': 1, u'type': u'PRONOMINAL', u'id': 3}\n",
      "{u'endIndex': 2, u'animacy': u'ANIMATE', u'text': u'Obama', u'isRepresentativeMention': False, u'number': u'SINGULAR', u'startIndex': 1, u'sentNum': 3, u'gender': u'MALE', u'position': [3, 1], u'headIndex': 1, u'type': u'PROPER', u'id': 4}\n"
     ]
    }
   ],
   "source": [
    "text = 'Barack Obama was born in Hawaii.  He is the president. Obama was elected in 2008.'\n",
    "result = json.loads(nlp.annotate(text, properties=props))\n",
    "num, mentions = result['corefs'].items()[0]\n",
    "for mention in mentions:\n",
    "    print(mention)"
   ]
  },
  {
   "cell_type": "code",
   "execution_count": 7,
   "metadata": {
    "collapsed": false
   },
   "outputs": [
    {
     "data": {
      "text/plain": [
       "\"\\n    This is the output\\n    How can we ensure that 'He' or 'Obama' is Barack Obama only.\\n\""
      ]
     },
     "execution_count": 7,
     "metadata": {},
     "output_type": "execute_result"
    }
   ],
   "source": [
    "\"\"\"\n",
    "    This is the output\n",
    "    How can we ensure that 'He' or 'Obama' is Barack Obama only.\n",
    "\"\"\""
   ]
  },
  {
   "cell_type": "code",
   "execution_count": null,
   "metadata": {
    "collapsed": true
   },
   "outputs": [],
   "source": []
  }
 ],
 "metadata": {
  "kernelspec": {
   "display_name": "Python 2",
   "language": "python",
   "name": "python2"
  },
  "language_info": {
   "codemirror_mode": {
    "name": "ipython",
    "version": 2
   },
   "file_extension": ".py",
   "mimetype": "text/x-python",
   "name": "python",
   "nbconvert_exporter": "python",
   "pygments_lexer": "ipython2",
   "version": "2.7.12"
  }
 },
 "nbformat": 4,
 "nbformat_minor": 2
}
